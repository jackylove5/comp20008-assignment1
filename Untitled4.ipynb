{
 "cells": [
  {
   "cell_type": "code",
   "execution_count": 2,
   "metadata": {},
   "outputs": [],
   "source": [
    "import re\n",
    "import pandas as pd\n",
    "import os"
   ]
  },
  {
   "cell_type": "code",
   "execution_count": 3,
   "metadata": {},
   "outputs": [
    {
     "name": "stdout",
     "output_type": "stream",
     "text": [
      "cricket001.txt\n",
      "cricket/001.txt\n"
     ]
    }
   ],
   "source": [
    "path_ = input()\n",
    "path_ = list(path_)\n",
    "path_.insert(7, '/')\n",
    "path_ = ''.join(path_)\n",
    "print(path_)"
   ]
  },
  {
   "cell_type": "code",
   "execution_count": 4,
   "metadata": {},
   "outputs": [],
   "source": [
    "f = open(path_, mode='r')"
   ]
  },
  {
   "cell_type": "code",
   "execution_count": 5,
   "metadata": {},
   "outputs": [],
   "source": [
    "new_str = ''"
   ]
  },
  {
   "cell_type": "code",
   "execution_count": 6,
   "metadata": {},
   "outputs": [
    {
     "name": "stdout",
     "output_type": "stream",
     "text": [
      " JDKC 105M\n",
      " JDKC 105M Second one day international Christchurch Australia 314 6 50 overs beat New Zealand 208 40 4 overs by 106 runs\n",
      " JDKC 105M Second one day international Christchurch Australia 314 6 50 overs beat New Zealand 208 40 4 overs by 106 runs \n",
      " JDKC 105M Second one day international Christchurch Australia 314 6 50 overs beat New Zealand 208 40 4 overs by 106 runs  Ricky Ponting 53 and Damien Martyn 58 provided the main support for Hayden who hit two sixes and 12 fours They eventually totalled 314 6 and the game was as good as over when New Zealand slumped to 73 6 in reply with Adam Gilchrist taking five catches Daniel Vettori made a rapid 83 but they were all out for 208 in the 41st over New Zealand must now win all three remaining matches to take the series but such a turn round looked a remote possibility at Jade Stadium Skipepr Stephen Fleming chose to put Australia in after winning the toss with former rugby star Jeff Wilson included in the New Zealand team for his first one day international since March 1993 He was taught a harsh lesson as his six overs cost 57 runs with only left arm spinner Vettori 0 31 from 10 able to exercise any measure of control over the Australian batsmen\n",
      " JDKC 105M Second one day international Christchurch Australia 314 6 50 overs beat New Zealand 208 40 4 overs by 106 runs  Ricky Ponting 53 and Damien Martyn 58 provided the main support for Hayden who hit two sixes and 12 fours They eventually totalled 314 6 and the game was as good as over when New Zealand slumped to 73 6 in reply with Adam Gilchrist taking five catches Daniel Vettori made a rapid 83 but they were all out for 208 in the 41st over New Zealand must now win all three remaining matches to take the series but such a turn round looked a remote possibility at Jade Stadium Skipepr Stephen Fleming chose to put Australia in after winning the toss with former rugby star Jeff Wilson included in the New Zealand team for his first one day international since March 1993 He was taught a harsh lesson as his six overs cost 57 runs with only left arm spinner Vettori 0 31 from 10 able to exercise any measure of control over the Australian batsmen \n",
      " JDKC 105M Second one day international Christchurch Australia 314 6 50 overs beat New Zealand 208 40 4 overs by 106 runs  Ricky Ponting 53 and Damien Martyn 58 provided the main support for Hayden who hit two sixes and 12 fours They eventually totalled 314 6 and the game was as good as over when New Zealand slumped to 73 6 in reply with Adam Gilchrist taking five catches Daniel Vettori made a rapid 83 but they were all out for 208 in the 41st over New Zealand must now win all three remaining matches to take the series but such a turn round looked a remote possibility at Jade Stadium Skipepr Stephen Fleming chose to put Australia in after winning the toss with former rugby star Jeff Wilson included in the New Zealand team for his first one day international since March 1993 He was taught a harsh lesson as his six overs cost 57 runs with only left arm spinner Vettori 0 31 from 10 able to exercise any measure of control over the Australian batsmen  Gilchrist was caught behind off Daryl Tuffey from the second ball of the match but Hayden and Ponting set about putting things right with a stand of 99 for the second wicket Ponting cleared the ropes twice as he raced to 50 off 51 balls but only added three more before he was run out by Hamish Marshall By then Hayden was into his stride and he and Martyn added 133 although it took them 24 overs Martyn was run out off the final ball of the 41st over but the final nine cost the Kiwis 82 runs as Australia raised the tempo Hayden s century came up off 110 balls but he eventually fell to a catch by Wilson off Kyle Mills leaving Michael Clarke to add 23 off 13 balls and Mike Hussey 32 not out off 20 as the total mounted past 300\n",
      " JDKC 105M Second one day international Christchurch Australia 314 6 50 overs beat New Zealand 208 40 4 overs by 106 runs  Ricky Ponting 53 and Damien Martyn 58 provided the main support for Hayden who hit two sixes and 12 fours They eventually totalled 314 6 and the game was as good as over when New Zealand slumped to 73 6 in reply with Adam Gilchrist taking five catches Daniel Vettori made a rapid 83 but they were all out for 208 in the 41st over New Zealand must now win all three remaining matches to take the series but such a turn round looked a remote possibility at Jade Stadium Skipepr Stephen Fleming chose to put Australia in after winning the toss with former rugby star Jeff Wilson included in the New Zealand team for his first one day international since March 1993 He was taught a harsh lesson as his six overs cost 57 runs with only left arm spinner Vettori 0 31 from 10 able to exercise any measure of control over the Australian batsmen  Gilchrist was caught behind off Daryl Tuffey from the second ball of the match but Hayden and Ponting set about putting things right with a stand of 99 for the second wicket Ponting cleared the ropes twice as he raced to 50 off 51 balls but only added three more before he was run out by Hamish Marshall By then Hayden was into his stride and he and Martyn added 133 although it took them 24 overs Martyn was run out off the final ball of the 41st over but the final nine cost the Kiwis 82 runs as Australia raised the tempo Hayden s century came up off 110 balls but he eventually fell to a catch by Wilson off Kyle Mills leaving Michael Clarke to add 23 off 13 balls and Mike Hussey 32 not out off 20 as the total mounted past 300 \n",
      " JDKC 105M Second one day international Christchurch Australia 314 6 50 overs beat New Zealand 208 40 4 overs by 106 runs  Ricky Ponting 53 and Damien Martyn 58 provided the main support for Hayden who hit two sixes and 12 fours They eventually totalled 314 6 and the game was as good as over when New Zealand slumped to 73 6 in reply with Adam Gilchrist taking five catches Daniel Vettori made a rapid 83 but they were all out for 208 in the 41st over New Zealand must now win all three remaining matches to take the series but such a turn round looked a remote possibility at Jade Stadium Skipepr Stephen Fleming chose to put Australia in after winning the toss with former rugby star Jeff Wilson included in the New Zealand team for his first one day international since March 1993 He was taught a harsh lesson as his six overs cost 57 runs with only left arm spinner Vettori 0 31 from 10 able to exercise any measure of control over the Australian batsmen  Gilchrist was caught behind off Daryl Tuffey from the second ball of the match but Hayden and Ponting set about putting things right with a stand of 99 for the second wicket Ponting cleared the ropes twice as he raced to 50 off 51 balls but only added three more before he was run out by Hamish Marshall By then Hayden was into his stride and he and Martyn added 133 although it took them 24 overs Martyn was run out off the final ball of the 41st over but the final nine cost the Kiwis 82 runs as Australia raised the tempo Hayden s century came up off 110 balls but he eventually fell to a catch by Wilson off Kyle Mills leaving Michael Clarke to add 23 off 13 balls and Mike Hussey 32 not out off 20 as the total mounted past 300  The new ball pairing of Brett Lee and Glenn McGrath made short work of New Zealand s top order claiming two wickets each all of them catches behind the wicket by Gilchrist He claimed another when Andrew Symonds found the edge of Craig McMillan s bat and when Chris Cairns followed for 22 caught by Hayden the home side were in danger of being embarrassed Vettori and Brendon McCullum 20 halted their decline by sharing a stand of 62 before McCullum gave a return catch to Symonds who finished with 3 41 Wilson made 22 in an eighth wicket stand of 62 but the end came quickly once he was caught by Ponting off Jason Gillespie Having passed fifty for the first time in a limited overs international Vettori was denied a century when he was caught at deep square leg off Gillespie after hitting 10 fours in his 77 ball knock Mills was last to go run out by Clarke after setting off for a quick single and being sent back by Tuffey\n",
      " JDKC 105M Second one day international Christchurch Australia 314 6 50 overs beat New Zealand 208 40 4 overs by 106 runs  Ricky Ponting 53 and Damien Martyn 58 provided the main support for Hayden who hit two sixes and 12 fours They eventually totalled 314 6 and the game was as good as over when New Zealand slumped to 73 6 in reply with Adam Gilchrist taking five catches Daniel Vettori made a rapid 83 but they were all out for 208 in the 41st over New Zealand must now win all three remaining matches to take the series but such a turn round looked a remote possibility at Jade Stadium Skipepr Stephen Fleming chose to put Australia in after winning the toss with former rugby star Jeff Wilson included in the New Zealand team for his first one day international since March 1993 He was taught a harsh lesson as his six overs cost 57 runs with only left arm spinner Vettori 0 31 from 10 able to exercise any measure of control over the Australian batsmen  Gilchrist was caught behind off Daryl Tuffey from the second ball of the match but Hayden and Ponting set about putting things right with a stand of 99 for the second wicket Ponting cleared the ropes twice as he raced to 50 off 51 balls but only added three more before he was run out by Hamish Marshall By then Hayden was into his stride and he and Martyn added 133 although it took them 24 overs Martyn was run out off the final ball of the 41st over but the final nine cost the Kiwis 82 runs as Australia raised the tempo Hayden s century came up off 110 balls but he eventually fell to a catch by Wilson off Kyle Mills leaving Michael Clarke to add 23 off 13 balls and Mike Hussey 32 not out off 20 as the total mounted past 300  The new ball pairing of Brett Lee and Glenn McGrath made short work of New Zealand s top order claiming two wickets each all of them catches behind the wicket by Gilchrist He claimed another when Andrew Symonds found the edge of Craig McMillan s bat and when Chris Cairns followed for 22 caught by Hayden the home side were in danger of being embarrassed Vettori and Brendon McCullum 20 halted their decline by sharing a stand of 62 before McCullum gave a return catch to Symonds who finished with 3 41 Wilson made 22 in an eighth wicket stand of 62 but the end came quickly once he was caught by Ponting off Jason Gillespie Having passed fifty for the first time in a limited overs international Vettori was denied a century when he was caught at deep square leg off Gillespie after hitting 10 fours in his 77 ball knock Mills was last to go run out by Clarke after setting off for a quick single and being sent back by Tuffey \n",
      " JDKC 105M Second one day international Christchurch Australia 314 6 50 overs beat New Zealand 208 40 4 overs by 106 runs  Ricky Ponting 53 and Damien Martyn 58 provided the main support for Hayden who hit two sixes and 12 fours They eventually totalled 314 6 and the game was as good as over when New Zealand slumped to 73 6 in reply with Adam Gilchrist taking five catches Daniel Vettori made a rapid 83 but they were all out for 208 in the 41st over New Zealand must now win all three remaining matches to take the series but such a turn round looked a remote possibility at Jade Stadium Skipepr Stephen Fleming chose to put Australia in after winning the toss with former rugby star Jeff Wilson included in the New Zealand team for his first one day international since March 1993 He was taught a harsh lesson as his six overs cost 57 runs with only left arm spinner Vettori 0 31 from 10 able to exercise any measure of control over the Australian batsmen  Gilchrist was caught behind off Daryl Tuffey from the second ball of the match but Hayden and Ponting set about putting things right with a stand of 99 for the second wicket Ponting cleared the ropes twice as he raced to 50 off 51 balls but only added three more before he was run out by Hamish Marshall By then Hayden was into his stride and he and Martyn added 133 although it took them 24 overs Martyn was run out off the final ball of the 41st over but the final nine cost the Kiwis 82 runs as Australia raised the tempo Hayden s century came up off 110 balls but he eventually fell to a catch by Wilson off Kyle Mills leaving Michael Clarke to add 23 off 13 balls and Mike Hussey 32 not out off 20 as the total mounted past 300  The new ball pairing of Brett Lee and Glenn McGrath made short work of New Zealand s top order claiming two wickets each all of them catches behind the wicket by Gilchrist He claimed another when Andrew Symonds found the edge of Craig McMillan s bat and when Chris Cairns followed for 22 caught by Hayden the home side were in danger of being embarrassed Vettori and Brendon McCullum 20 halted their decline by sharing a stand of 62 before McCullum gave a return catch to Symonds who finished with 3 41 Wilson made 22 in an eighth wicket stand of 62 but the end came quickly once he was caught by Ponting off Jason Gillespie Having passed fifty for the first time in a limited overs international Vettori was denied a century when he was caught at deep square leg off Gillespie after hitting 10 fours in his 77 ball knock Mills was last to go run out by Clarke after setting off for a quick single and being sent back by Tuffey  S P Fleming N J Astle M S Sinclair J Wilson C D McMillan H J H Marshall C L Cairns B B McCullum K D Mills D L Vettori D R Tuffey\n",
      " JDKC 105M Second one day international Christchurch Australia 314 6 50 overs beat New Zealand 208 40 4 overs by 106 runs  Ricky Ponting 53 and Damien Martyn 58 provided the main support for Hayden who hit two sixes and 12 fours They eventually totalled 314 6 and the game was as good as over when New Zealand slumped to 73 6 in reply with Adam Gilchrist taking five catches Daniel Vettori made a rapid 83 but they were all out for 208 in the 41st over New Zealand must now win all three remaining matches to take the series but such a turn round looked a remote possibility at Jade Stadium Skipepr Stephen Fleming chose to put Australia in after winning the toss with former rugby star Jeff Wilson included in the New Zealand team for his first one day international since March 1993 He was taught a harsh lesson as his six overs cost 57 runs with only left arm spinner Vettori 0 31 from 10 able to exercise any measure of control over the Australian batsmen  Gilchrist was caught behind off Daryl Tuffey from the second ball of the match but Hayden and Ponting set about putting things right with a stand of 99 for the second wicket Ponting cleared the ropes twice as he raced to 50 off 51 balls but only added three more before he was run out by Hamish Marshall By then Hayden was into his stride and he and Martyn added 133 although it took them 24 overs Martyn was run out off the final ball of the 41st over but the final nine cost the Kiwis 82 runs as Australia raised the tempo Hayden s century came up off 110 balls but he eventually fell to a catch by Wilson off Kyle Mills leaving Michael Clarke to add 23 off 13 balls and Mike Hussey 32 not out off 20 as the total mounted past 300  The new ball pairing of Brett Lee and Glenn McGrath made short work of New Zealand s top order claiming two wickets each all of them catches behind the wicket by Gilchrist He claimed another when Andrew Symonds found the edge of Craig McMillan s bat and when Chris Cairns followed for 22 caught by Hayden the home side were in danger of being embarrassed Vettori and Brendon McCullum 20 halted their decline by sharing a stand of 62 before McCullum gave a return catch to Symonds who finished with 3 41 Wilson made 22 in an eighth wicket stand of 62 but the end came quickly once he was caught by Ponting off Jason Gillespie Having passed fifty for the first time in a limited overs international Vettori was denied a century when he was caught at deep square leg off Gillespie after hitting 10 fours in his 77 ball knock Mills was last to go run out by Clarke after setting off for a quick single and being sent back by Tuffey  S P Fleming N J Astle M S Sinclair J Wilson C D McMillan H J H Marshall C L Cairns B B McCullum K D Mills D L Vettori D R Tuffey \n",
      " JDKC 105M Second one day international Christchurch Australia 314 6 50 overs beat New Zealand 208 40 4 overs by 106 runs  Ricky Ponting 53 and Damien Martyn 58 provided the main support for Hayden who hit two sixes and 12 fours They eventually totalled 314 6 and the game was as good as over when New Zealand slumped to 73 6 in reply with Adam Gilchrist taking five catches Daniel Vettori made a rapid 83 but they were all out for 208 in the 41st over New Zealand must now win all three remaining matches to take the series but such a turn round looked a remote possibility at Jade Stadium Skipepr Stephen Fleming chose to put Australia in after winning the toss with former rugby star Jeff Wilson included in the New Zealand team for his first one day international since March 1993 He was taught a harsh lesson as his six overs cost 57 runs with only left arm spinner Vettori 0 31 from 10 able to exercise any measure of control over the Australian batsmen  Gilchrist was caught behind off Daryl Tuffey from the second ball of the match but Hayden and Ponting set about putting things right with a stand of 99 for the second wicket Ponting cleared the ropes twice as he raced to 50 off 51 balls but only added three more before he was run out by Hamish Marshall By then Hayden was into his stride and he and Martyn added 133 although it took them 24 overs Martyn was run out off the final ball of the 41st over but the final nine cost the Kiwis 82 runs as Australia raised the tempo Hayden s century came up off 110 balls but he eventually fell to a catch by Wilson off Kyle Mills leaving Michael Clarke to add 23 off 13 balls and Mike Hussey 32 not out off 20 as the total mounted past 300  The new ball pairing of Brett Lee and Glenn McGrath made short work of New Zealand s top order claiming two wickets each all of them catches behind the wicket by Gilchrist He claimed another when Andrew Symonds found the edge of Craig McMillan s bat and when Chris Cairns followed for 22 caught by Hayden the home side were in danger of being embarrassed Vettori and Brendon McCullum 20 halted their decline by sharing a stand of 62 before McCullum gave a return catch to Symonds who finished with 3 41 Wilson made 22 in an eighth wicket stand of 62 but the end came quickly once he was caught by Ponting off Jason Gillespie Having passed fifty for the first time in a limited overs international Vettori was denied a century when he was caught at deep square leg off Gillespie after hitting 10 fours in his 77 ball knock Mills was last to go run out by Clarke after setting off for a quick single and being sent back by Tuffey  S P Fleming N J Astle M S Sinclair J Wilson C D McMillan H J H Marshall C L Cairns B B McCullum K D Mills D L Vettori D R Tuffey  M L Hayden A C Gilchrist R T Ponting D R Martyn A Symonds M J Clarke M E K Hussey G B Hogg B Lee J Gillespie G D McGrath\n"
     ]
    }
   ],
   "source": [
    "for line in f.readlines():\n",
    "    j = re.sub(r'\\W', ' ', line)\n",
    "    g = ' '.join(j.split())\n",
    "    new_str = new_str + ' ' + g"
   ]
  },
  {
   "cell_type": "code",
   "execution_count": 7,
   "metadata": {},
   "outputs": [
    {
     "name": "stdout",
     "output_type": "stream",
     "text": [
      "JDKC 105M Second one day international Christchurch Australia 314 6 50 overs beat New Zealand 208 40 4 overs by 106 runs Ricky Ponting 53 and Damien Martyn 58 provided the main support for Hayden who hit two sixes and 12 fours They eventually totalled 314 6 and the game was as good as over when New Zealand slumped to 73 6 in reply with Adam Gilchrist taking five catches Daniel Vettori made a rapid 83 but they were all out for 208 in the 41st over New Zealand must now win all three remaining matches to take the series but such a turn round looked a remote possibility at Jade Stadium Skipepr Stephen Fleming chose to put Australia in after winning the toss with former rugby star Jeff Wilson included in the New Zealand team for his first one day international since March 1993 He was taught a harsh lesson as his six overs cost 57 runs with only left arm spinner Vettori 0 31 from 10 able to exercise any measure of control over the Australian batsmen Gilchrist was caught behind off Daryl Tuffey from the second ball of the match but Hayden and Ponting set about putting things right with a stand of 99 for the second wicket Ponting cleared the ropes twice as he raced to 50 off 51 balls but only added three more before he was run out by Hamish Marshall By then Hayden was into his stride and he and Martyn added 133 although it took them 24 overs Martyn was run out off the final ball of the 41st over but the final nine cost the Kiwis 82 runs as Australia raised the tempo Hayden s century came up off 110 balls but he eventually fell to a catch by Wilson off Kyle Mills leaving Michael Clarke to add 23 off 13 balls and Mike Hussey 32 not out off 20 as the total mounted past 300 The new ball pairing of Brett Lee and Glenn McGrath made short work of New Zealand s top order claiming two wickets each all of them catches behind the wicket by Gilchrist He claimed another when Andrew Symonds found the edge of Craig McMillan s bat and when Chris Cairns followed for 22 caught by Hayden the home side were in danger of being embarrassed Vettori and Brendon McCullum 20 halted their decline by sharing a stand of 62 before McCullum gave a return catch to Symonds who finished with 3 41 Wilson made 22 in an eighth wicket stand of 62 but the end came quickly once he was caught by Ponting off Jason Gillespie Having passed fifty for the first time in a limited overs international Vettori was denied a century when he was caught at deep square leg off Gillespie after hitting 10 fours in his 77 ball knock Mills was last to go run out by Clarke after setting off for a quick single and being sent back by Tuffey S P Fleming N J Astle M S Sinclair J Wilson C D McMillan H J H Marshall C L Cairns B B McCullum K D Mills D L Vettori D R Tuffey M L Hayden A C Gilchrist R T Ponting D R Martyn A Symonds M J Clarke M E K Hussey G B Hogg B Lee J Gillespie G D McGrath\n"
     ]
    }
   ],
   "source": [
    "new_str = ' '.join(new_str.split())"
   ]
  },
  {
   "cell_type": "code",
   "execution_count": 9,
   "metadata": {},
   "outputs": [],
   "source": [
    "new_str = new_str.lower()"
   ]
  },
  {
   "cell_type": "code",
   "execution_count": 10,
   "metadata": {},
   "outputs": [
    {
     "name": "stdout",
     "output_type": "stream",
     "text": [
      "jdkc 105m second one day international christchurch australia 314 6 50 overs beat new zealand 208 40 4 overs by 106 runs ricky ponting 53 and damien martyn 58 provided the main support for hayden who hit two sixes and 12 fours they eventually totalled 314 6 and the game was as good as over when new zealand slumped to 73 6 in reply with adam gilchrist taking five catches daniel vettori made a rapid 83 but they were all out for 208 in the 41st over new zealand must now win all three remaining matches to take the series but such a turn round looked a remote possibility at jade stadium skipepr stephen fleming chose to put australia in after winning the toss with former rugby star jeff wilson included in the new zealand team for his first one day international since march 1993 he was taught a harsh lesson as his six overs cost 57 runs with only left arm spinner vettori 0 31 from 10 able to exercise any measure of control over the australian batsmen gilchrist was caught behind off daryl tuffey from the second ball of the match but hayden and ponting set about putting things right with a stand of 99 for the second wicket ponting cleared the ropes twice as he raced to 50 off 51 balls but only added three more before he was run out by hamish marshall by then hayden was into his stride and he and martyn added 133 although it took them 24 overs martyn was run out off the final ball of the 41st over but the final nine cost the kiwis 82 runs as australia raised the tempo hayden s century came up off 110 balls but he eventually fell to a catch by wilson off kyle mills leaving michael clarke to add 23 off 13 balls and mike hussey 32 not out off 20 as the total mounted past 300 the new ball pairing of brett lee and glenn mcgrath made short work of new zealand s top order claiming two wickets each all of them catches behind the wicket by gilchrist he claimed another when andrew symonds found the edge of craig mcmillan s bat and when chris cairns followed for 22 caught by hayden the home side were in danger of being embarrassed vettori and brendon mccullum 20 halted their decline by sharing a stand of 62 before mccullum gave a return catch to symonds who finished with 3 41 wilson made 22 in an eighth wicket stand of 62 but the end came quickly once he was caught by ponting off jason gillespie having passed fifty for the first time in a limited overs international vettori was denied a century when he was caught at deep square leg off gillespie after hitting 10 fours in his 77 ball knock mills was last to go run out by clarke after setting off for a quick single and being sent back by tuffey s p fleming n j astle m s sinclair j wilson c d mcmillan h j h marshall c l cairns b b mccullum k d mills d l vettori d r tuffey m l hayden a c gilchrist r t ponting d r martyn a symonds m j clarke m e k hussey g b hogg b lee j gillespie g d mcgrath\n"
     ]
    }
   ],
   "source": [
    "print(new_str)"
   ]
  },
  {
   "cell_type": "code",
   "execution_count": 11,
   "metadata": {},
   "outputs": [],
   "source": [
    "def pre_posses(path):\n",
    "    path = list(path)\n",
    "    path.insert(7, '/')\n",
    "    path = ''.join(path)\n",
    "    \n",
    "    f = open(path_, mode='r')\n",
    "    \n",
    "    new_str = ''\n",
    "    \n",
    "    for line in f.readlines():\n",
    "        j = re.sub(r'\\W', ' ', line)\n",
    "        g = ' '.join(j.split())\n",
    "        new_str = new_str + ' ' + g\n",
    "        \n",
    "    new_str = ' '.join(new_str.split())\n",
    "    new_str = new_str.lower()\n",
    "    \n",
    "    return(new_str)"
   ]
  },
  {
   "cell_type": "code",
   "execution_count": 14,
   "metadata": {},
   "outputs": [
    {
     "data": {
      "text/plain": [
       "' jdkc 105m second one day international christchurch australia 314 6 50 overs beat new zealand 208 40 4 overs by 106 runs  ricky ponting 53 and damien martyn 58 provided the main support for hayden who hit two sixes and 12 fours they eventually totalled 314 6 and the game was as good as over when new zealand slumped to 73 6 in reply with adam gilchrist taking five catches daniel vettori made a rapid 83 but they were all out for 208 in the 41st over new zealand must now win all three remaining matches to take the series but such a turn round looked a remote possibility at jade stadium skipepr stephen fleming chose to put australia in after winning the toss with former rugby star jeff wilson included in the new zealand team for his first one day international since march 1993 he was taught a harsh lesson as his six overs cost 57 runs with only left arm spinner vettori 0 31 from 10 able to exercise any measure of control over the australian batsmen  gilchrist was caught behind off daryl tuffey from the second ball of the match but hayden and ponting set about putting things right with a stand of 99 for the second wicket ponting cleared the ropes twice as he raced to 50 off 51 balls but only added three more before he was run out by hamish marshall by then hayden was into his stride and he and martyn added 133 although it took them 24 overs martyn was run out off the final ball of the 41st over but the final nine cost the kiwis 82 runs as australia raised the tempo hayden s century came up off 110 balls but he eventually fell to a catch by wilson off kyle mills leaving michael clarke to add 23 off 13 balls and mike hussey 32 not out off 20 as the total mounted past 300  the new ball pairing of brett lee and glenn mcgrath made short work of new zealand s top order claiming two wickets each all of them catches behind the wicket by gilchrist he claimed another when andrew symonds found the edge of craig mcmillan s bat and when chris cairns followed for 22 caught by hayden the home side were in danger of being embarrassed vettori and brendon mccullum 20 halted their decline by sharing a stand of 62 before mccullum gave a return catch to symonds who finished with 3 41 wilson made 22 in an eighth wicket stand of 62 but the end came quickly once he was caught by ponting off jason gillespie having passed fifty for the first time in a limited overs international vettori was denied a century when he was caught at deep square leg off gillespie after hitting 10 fours in his 77 ball knock mills was last to go run out by clarke after setting off for a quick single and being sent back by tuffey  s p fleming n j astle m s sinclair j wilson c d mcmillan h j h marshall c l cairns b b mccullum k d mills d l vettori d r tuffey  m l hayden a c gilchrist r t ponting d r martyn a symonds m j clarke m e k hussey g b hogg b lee j gillespie g d mcgrath'"
      ]
     },
     "execution_count": 14,
     "metadata": {},
     "output_type": "execute_result"
    }
   ],
   "source": [
    "print(pre_posses(*args))"
   ]
  },
  {
   "cell_type": "code",
   "execution_count": null,
   "metadata": {},
   "outputs": [],
   "source": []
  }
 ],
 "metadata": {
  "kernelspec": {
   "display_name": "Python 3",
   "language": "python",
   "name": "python3"
  },
  "language_info": {
   "codemirror_mode": {
    "name": "ipython",
    "version": 3
   },
   "file_extension": ".py",
   "mimetype": "text/x-python",
   "name": "python",
   "nbconvert_exporter": "python",
   "pygments_lexer": "ipython3",
   "version": "3.7.4"
  }
 },
 "nbformat": 4,
 "nbformat_minor": 2
}
