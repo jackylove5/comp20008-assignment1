{
 "cells": [
  {
   "cell_type": "code",
   "execution_count": 1,
   "metadata": {},
   "outputs": [],
   "source": [
    "import re\n",
    "import pandas as pd\n",
    "import os\n",
    "import sys\n",
    "import nltk\n",
    "from nltk.stem.porter import *"
   ]
  },
  {
   "cell_type": "code",
   "execution_count": 2,
   "metadata": {},
   "outputs": [],
   "source": [
    "dirs = os.listdir(\"cricket\")"
   ]
  },
  {
   "cell_type": "code",
   "execution_count": 3,
   "metadata": {},
   "outputs": [],
   "source": [
    "def preposses(path):\n",
    "\n",
    "    f = open(path, mode='r')\n",
    "    \n",
    "    new_str = ''\n",
    "    \n",
    "    for line in f.readlines():\n",
    "        j = re.sub(r'\\W', ' ', line)\n",
    "        g = ' '.join(j.split())\n",
    "        new_str = new_str + ' ' + g\n",
    "        \n",
    "    new_str = ' '.join(new_str.split())\n",
    "    new_str = new_str.lower()\n",
    "    #print(new_str)\n",
    "    return(new_str)"
   ]
  },
  {
   "cell_type": "code",
   "execution_count": 4,
   "metadata": {},
   "outputs": [],
   "source": [
    "porterStemmer = PorterStemmer()\n",
    "\n",
    "keywords = []\n",
    "\n",
    "keywords = [sys.argv[i] for i in range(1, len(sys.argv))]\n",
    "keywords_stem = []\n",
    "for i in keywords:\n",
    "    stemWord = porterStemmer.stem(i)"
   ]
  },
  {
   "cell_type": "code",
   "execution_count": 5,
   "metadata": {},
   "outputs": [
    {
     "name": "stdout",
     "output_type": "stream",
     "text": [
      "document ID:\n"
     ]
    }
   ],
   "source": [
    "## Part B Task 3\n",
    "# Part B Task 2\n",
    "import re\n",
    "import pandas as pd\n",
    "import os\n",
    "import sys\n",
    "import nltk\n",
    "from nltk.stem.porter import *\n",
    "\n",
    "dirs = os.listdir(\"cricket\")\n",
    "\n",
    "def preposses(path):\n",
    "\n",
    "    f = open(path, mode='r')\n",
    "    \n",
    "    new_str = ''\n",
    "    \n",
    "    for line in f.readlines():\n",
    "        j = re.sub(r'\\W', ' ', line)\n",
    "        g = ' '.join(j.split())\n",
    "        new_str = new_str + ' ' + g\n",
    "        \n",
    "    new_str = ' '.join(new_str.split())\n",
    "    new_str = new_str.lower()\n",
    "    #print(new_str)\n",
    "    return(new_str)\n",
    "\n",
    "keywords = []\n",
    "\n",
    "keywords = [sys.argv[i] for i in range(1, len(sys.argv))]\n",
    "#print(keywords)\n",
    "file_name = []\n",
    "\n",
    "for i in dirs:\n",
    "    path = str('cricket/%s'%i)\n",
    "    prepossed_txt = preposses(path)\n",
    "    word_list = nltk.word_tokenize(prepossed_txt)\n",
    "    count = 0\n",
    "    intersection = list(set(word_list).intersection(set(keywords)))\n",
    "    #print(intersection)\n",
    "    #print(len(intersection))\n",
    "    #print(len(sys.argv))\n",
    "    if len(intersection) == len(keywords):\n",
    "        file_name.append(i)\n",
    "\n",
    "\n",
    "print('document ID:')\n",
    "for j in file_name:\n",
    "    print(j)\n",
    "\n",
    "partb1 = pd.read_csv('partb1.csv',encoding = 'ISO-8859-1')\n",
    "\n",
    "count_1 = 0\n",
    "\n",
    "for g in partb1['filename']:\n",
    "    for f in file_name:\n",
    "        if g == f:\n",
    "            print(partb1[count_1])\n",
    "        count_1 += 1"
   ]
  },
  {
   "cell_type": "code",
   "execution_count": 6,
   "metadata": {},
   "outputs": [],
   "source": [
    "partb1 = pd.read_csv('partb1.csv',encoding = 'ISO-8859-1')"
   ]
  },
  {
   "cell_type": "code",
   "execution_count": 7,
   "metadata": {},
   "outputs": [
    {
     "data": {
      "text/html": [
       "<div>\n",
       "<style scoped>\n",
       "    .dataframe tbody tr th:only-of-type {\n",
       "        vertical-align: middle;\n",
       "    }\n",
       "\n",
       "    .dataframe tbody tr th {\n",
       "        vertical-align: top;\n",
       "    }\n",
       "\n",
       "    .dataframe thead th {\n",
       "        text-align: right;\n",
       "    }\n",
       "</style>\n",
       "<table border=\"1\" class=\"dataframe\">\n",
       "  <thead>\n",
       "    <tr style=\"text-align: right;\">\n",
       "      <th></th>\n",
       "      <th>Unnamed: 0</th>\n",
       "      <th>filename</th>\n",
       "      <th>documentID</th>\n",
       "    </tr>\n",
       "  </thead>\n",
       "  <tbody>\n",
       "    <tr>\n",
       "      <td>0</td>\n",
       "      <td>0</td>\n",
       "      <td>001.txt</td>\n",
       "      <td>JDKC-105</td>\n",
       "    </tr>\n",
       "    <tr>\n",
       "      <td>1</td>\n",
       "      <td>1</td>\n",
       "      <td>002.txt</td>\n",
       "      <td>PUQK-674</td>\n",
       "    </tr>\n",
       "    <tr>\n",
       "      <td>2</td>\n",
       "      <td>2</td>\n",
       "      <td>003.txt</td>\n",
       "      <td>VPBC-005</td>\n",
       "    </tr>\n",
       "    <tr>\n",
       "      <td>3</td>\n",
       "      <td>3</td>\n",
       "      <td>004.txt</td>\n",
       "      <td>YWCE-738</td>\n",
       "    </tr>\n",
       "    <tr>\n",
       "      <td>4</td>\n",
       "      <td>4</td>\n",
       "      <td>005.txt</td>\n",
       "      <td>GHXO-669</td>\n",
       "    </tr>\n",
       "    <tr>\n",
       "      <td>...</td>\n",
       "      <td>...</td>\n",
       "      <td>...</td>\n",
       "      <td>...</td>\n",
       "    </tr>\n",
       "    <tr>\n",
       "      <td>119</td>\n",
       "      <td>119</td>\n",
       "      <td>120.txt</td>\n",
       "      <td>BLVY-265</td>\n",
       "    </tr>\n",
       "    <tr>\n",
       "      <td>120</td>\n",
       "      <td>120</td>\n",
       "      <td>121.txt</td>\n",
       "      <td>ERRM-330</td>\n",
       "    </tr>\n",
       "    <tr>\n",
       "      <td>121</td>\n",
       "      <td>121</td>\n",
       "      <td>122.txt</td>\n",
       "      <td>JFGO-085</td>\n",
       "    </tr>\n",
       "    <tr>\n",
       "      <td>122</td>\n",
       "      <td>122</td>\n",
       "      <td>123.txt</td>\n",
       "      <td>KGPU-366S</td>\n",
       "    </tr>\n",
       "    <tr>\n",
       "      <td>123</td>\n",
       "      <td>123</td>\n",
       "      <td>124.txt</td>\n",
       "      <td>PMFQ-998Z</td>\n",
       "    </tr>\n",
       "  </tbody>\n",
       "</table>\n",
       "<p>124 rows × 3 columns</p>\n",
       "</div>"
      ],
      "text/plain": [
       "     Unnamed: 0 filename documentID\n",
       "0             0  001.txt   JDKC-105\n",
       "1             1  002.txt   PUQK-674\n",
       "2             2  003.txt   VPBC-005\n",
       "3             3  004.txt   YWCE-738\n",
       "4             4  005.txt   GHXO-669\n",
       "..          ...      ...        ...\n",
       "119         119  120.txt   BLVY-265\n",
       "120         120  121.txt   ERRM-330\n",
       "121         121  122.txt   JFGO-085\n",
       "122         122  123.txt  KGPU-366S\n",
       "123         123  124.txt  PMFQ-998Z\n",
       "\n",
       "[124 rows x 3 columns]"
      ]
     },
     "execution_count": 7,
     "metadata": {},
     "output_type": "execute_result"
    }
   ],
   "source": [
    "partb1"
   ]
  },
  {
   "cell_type": "code",
   "execution_count": 17,
   "metadata": {},
   "outputs": [],
   "source": [
    "g = partb1.iloc[113,2]"
   ]
  },
  {
   "cell_type": "code",
   "execution_count": 18,
   "metadata": {},
   "outputs": [],
   "source": [
    "file_keywords = pd.DataFrame(columns=['file name', 'document ID'])"
   ]
  },
  {
   "cell_type": "code",
   "execution_count": 23,
   "metadata": {},
   "outputs": [
    {
     "name": "stdout",
     "output_type": "stream",
     "text": [
      "[0.55, 1.1, 1.6500000000000001, 2.2]\n"
     ]
    }
   ],
   "source": [
    "a = [1,2,3,4]\n",
    "b = 0.55\n",
    "for i in range(len(a)):\n",
    "    a[i] = a[i]*b\n",
    "print(a)"
   ]
  },
  {
   "cell_type": "code",
   "execution_count": 24,
   "metadata": {},
   "outputs": [],
   "source": [
    "import math"
   ]
  },
  {
   "cell_type": "code",
   "execution_count": 25,
   "metadata": {},
   "outputs": [
    {
     "data": {
      "text/plain": [
       "1.0"
      ]
     },
     "execution_count": 25,
     "metadata": {},
     "output_type": "execute_result"
    }
   ],
   "source": [
    "math.log(2,2)"
   ]
  },
  {
   "cell_type": "code",
   "execution_count": 26,
   "metadata": {},
   "outputs": [
    {
     "data": {
      "text/plain": [
       "2.0"
      ]
     },
     "execution_count": 26,
     "metadata": {},
     "output_type": "execute_result"
    }
   ],
   "source": [
    "math.log(4,2)"
   ]
  },
  {
   "cell_type": "code",
   "execution_count": null,
   "metadata": {},
   "outputs": [],
   "source": [
    "maath.log()"
   ]
  }
 ],
 "metadata": {
  "kernelspec": {
   "display_name": "Python 3",
   "language": "python",
   "name": "python3"
  },
  "language_info": {
   "codemirror_mode": {
    "name": "ipython",
    "version": 3
   },
   "file_extension": ".py",
   "mimetype": "text/x-python",
   "name": "python",
   "nbconvert_exporter": "python",
   "pygments_lexer": "ipython3",
   "version": "3.7.4"
  }
 },
 "nbformat": 4,
 "nbformat_minor": 2
}
