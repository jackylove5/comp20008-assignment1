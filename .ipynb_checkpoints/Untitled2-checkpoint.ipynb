{
 "cells": [
  {
   "cell_type": "code",
   "execution_count": 15,
   "metadata": {},
   "outputs": [],
   "source": [
    "import re\n",
    "import pandas as pd\n",
    "import os"
   ]
  },
  {
   "cell_type": "code",
   "execution_count": 128,
   "metadata": {},
   "outputs": [
    {
     "name": "stdout",
     "output_type": "stream",
     "text": [
      "cricket001.txt\n",
      "cricket/001.txt\n"
     ]
    }
   ],
   "source": [
    "path_ = input()\n",
    "path_ = list(path_)\n",
    "path_.insert(7, '/')\n",
    "path_ = ''.join(path_)\n",
    "print(path_)"
   ]
  },
  {
   "cell_type": "code",
   "execution_count": 129,
   "metadata": {},
   "outputs": [],
   "source": [
    "f = open(path_, mode='r')"
   ]
  },
  {
   "cell_type": "code",
   "execution_count": 67,
   "metadata": {},
   "outputs": [],
   "source": [
    "pattern_1 = re.compile(r'([A-Z])',re.I)\n",
    "pattern_2 = re.compile(r' ')\n",
    "pattern_3 = re.compile(r'/n')"
   ]
  },
  {
   "cell_type": "code",
   "execution_count": 37,
   "metadata": {},
   "outputs": [],
   "source": [
    "str = 'bcd5678$%^'"
   ]
  },
  {
   "cell_type": "code",
   "execution_count": 44,
   "metadata": {},
   "outputs": [],
   "source": [
    "j = re.sub(r'\\W', '', str)"
   ]
  },
  {
   "cell_type": "code",
   "execution_count": 45,
   "metadata": {},
   "outputs": [
    {
     "name": "stdout",
     "output_type": "stream",
     "text": [
      "bcd5678\n"
     ]
    }
   ],
   "source": [
    "print(j)"
   ]
  },
  {
   "cell_type": "code",
   "execution_count": 32,
   "metadata": {},
   "outputs": [
    {
     "name": "stdout",
     "output_type": "stream",
     "text": [
      "^\n"
     ]
    }
   ],
   "source": [
    "print(j)"
   ]
  },
  {
   "cell_type": "code",
   "execution_count": 107,
   "metadata": {},
   "outputs": [],
   "source": [
    "new_str = ''"
   ]
  },
  {
   "cell_type": "code",
   "execution_count": 125,
   "metadata": {},
   "outputs": [
    {
     "name": "stdout",
     "output_type": "stream",
     "text": [
      "JDKC-105M\n",
      "\n",
      "Second one-day international, Christchurch Australia 314-6 (50 overs) beat New Zealand 208 (40.4 overs) by 106 runs\n",
      "\n",
      "\n",
      "\n",
      "Ricky Ponting (53) and Damien Martyn (58) provided the main support for Hayden, who hit two sixes and 12 fours. They eventually totalled 314-6 and the game was as good as over when New Zealand slumped to 73-6 in reply, with Adam Gilchrist taking five catches. Daniel Vettori made a rapid 83 but they were all out for 208 in the 41st over. New Zealand must now win all three remaining matches to take the series, but such a turn-round looked a remote possibility at Jade Stadium. Skipepr Stephen Fleming chose to put Australia in after winning the toss, with former rugby star Jeff Wilson included in the New Zealand team for his first one-day international since March 1993. He was taught a harsh lesson as his six overs cost 57 runs, with only left-arm spinner Vettori (0-31 from 10) able to exercise any measure of control over the Australian batsmen.\n",
      "\n",
      "\n",
      "\n",
      "Gilchrist was caught behind off Daryl Tuffey from the second ball of the match but Hayden and Ponting set about putting things right with a stand of 99 for the second wicket. Ponting cleared the ropes twice as he raced to 50 off 51 balls, but only added three more before he was run out by Hamish Marshall. By then, Hayden was into his stride and he and Martyn added 133, although it took them 24 overs. Martyn was run out off the final ball of the 41st over, but the final nine cost the Kiwis 82 runs as Australia raised the tempo. Hayden's century came up off 110 balls but he eventually fell to a catch by Wilson off Kyle Mills, leaving Michael Clarke to add 23 off 13 balls and Mike Hussey 32 not out off 20 as the total mounted past 300.\n",
      "\n",
      "\n",
      "\n",
      "The new ball pairing of Brett Lee and Glenn McGrath made short work of New Zealand's top order, claiming two wickets each - all of them catches behind the wicket by Gilchrist. He claimed another when Andrew Symonds found the edge of Craig McMillan's bat and when Chris Cairns followed for 22, caught by Hayden, the home side were in danger of being embarrassed. Vettori and Brendon McCullum (20) halted their decline by sharing a stand of 62 before McCullum gave a return catch to Symonds, who finished with 3-41. Wilson made 22 in an eighth wicket stand of 62 but the end came quickly once he was caught by Ponting off Jason Gillespie. Having passed fifty for the first time in a limited overs international, Vettori was denied a century when he was caught at deep square leg off Gillespie after hitting 10 fours in his 77-ball knock. Mills was last to go, run out by Clarke, after setting off for a quick single and being sent back by Tuffey.\n",
      "\n",
      "\n",
      "\n",
      "S P Fleming, N J Astle, M S Sinclair, J Wilson, C D McMillan, H J H Marshall, C L Cairns, B B McCullum, K D Mills, D L Vettori, D R Tuffey\n",
      "\n",
      "\n",
      "\n",
      "M L Hayden, A C Gilchrist, R T Ponting, D R Martyn, A Symonds, M J Clarke, M E K Hussey, G B Hogg, B Lee, J Gillespie, G D McGrath\n",
      "\n"
     ]
    }
   ],
   "source": [
    "for line in f:\n",
    "    re.sub(r'\\W', ' ', line)\n",
    "    print(line)"
   ]
  },
  {
   "cell_type": "code",
   "execution_count": 126,
   "metadata": {},
   "outputs": [],
   "source": [
    "for line in f.readlines():\n",
    "    print(line)"
   ]
  },
  {
   "cell_type": "code",
   "execution_count": 130,
   "metadata": {},
   "outputs": [
    {
     "name": "stdout",
     "output_type": "stream",
     "text": [
      " JDKC 105M Second one day international Christchurch Australia 314 6 50 overs beat New Zealand 208 40 4 overs by 106 runs  Ricky Ponting 53 and Damien Martyn 58 provided the main support for Hayden who hit two sixes and 12 fours They eventually totalled 314 6 and the game was as good as over when New Zealand slumped to 73 6 in reply with Adam Gilchrist taking five catches Daniel Vettori made a rapid 83 but they were all out for 208 in the 41st over New Zealand must now win all three remaining matches to take the series but such a turn round looked a remote possibility at Jade Stadium Skipepr Stephen Fleming chose to put Australia in after winning the toss with former rugby star Jeff Wilson included in the New Zealand team for his first one day international since March 1993 He was taught a harsh lesson as his six overs cost 57 runs with only left arm spinner Vettori 0 31 from 10 able to exercise any measure of control over the Australian batsmen  Gilchrist was caught behind off Daryl Tuffey from the second ball of the match but Hayden and Ponting set about putting things right with a stand of 99 for the second wicket Ponting cleared the ropes twice as he raced to 50 off 51 balls but only added three more before he was run out by Hamish Marshall By then Hayden was into his stride and he and Martyn added 133 although it took them 24 overs Martyn was run out off the final ball of the 41st over but the final nine cost the Kiwis 82 runs as Australia raised the tempo Hayden s century came up off 110 balls but he eventually fell to a catch by Wilson off Kyle Mills leaving Michael Clarke to add 23 off 13 balls and Mike Hussey 32 not out off 20 as the total mounted past 300  The new ball pairing of Brett Lee and Glenn McGrath made short work of New Zealand s top order claiming two wickets each all of them catches behind the wicket by Gilchrist He claimed another when Andrew Symonds found the edge of Craig McMillan s bat and when Chris Cairns followed for 22 caught by Hayden the home side were in danger of being embarrassed Vettori and Brendon McCullum 20 halted their decline by sharing a stand of 62 before McCullum gave a return catch to Symonds who finished with 3 41 Wilson made 22 in an eighth wicket stand of 62 but the end came quickly once he was caught by Ponting off Jason Gillespie Having passed fifty for the first time in a limited overs international Vettori was denied a century when he was caught at deep square leg off Gillespie after hitting 10 fours in his 77 ball knock Mills was last to go run out by Clarke after setting off for a quick single and being sent back by Tuffey  S P Fleming N J Astle M S Sinclair J Wilson C D McMillan H J H Marshall C L Cairns B B McCullum K D Mills D L Vettori D R Tuffey  M L Hayden A C Gilchrist R T Ponting D R Martyn A Symonds M J Clarke M E K Hussey G B Hogg B Lee J Gillespie G D McGrath JDKC 105M\n",
      " JDKC 105M Second one day international Christchurch Australia 314 6 50 overs beat New Zealand 208 40 4 overs by 106 runs  Ricky Ponting 53 and Damien Martyn 58 provided the main support for Hayden who hit two sixes and 12 fours They eventually totalled 314 6 and the game was as good as over when New Zealand slumped to 73 6 in reply with Adam Gilchrist taking five catches Daniel Vettori made a rapid 83 but they were all out for 208 in the 41st over New Zealand must now win all three remaining matches to take the series but such a turn round looked a remote possibility at Jade Stadium Skipepr Stephen Fleming chose to put Australia in after winning the toss with former rugby star Jeff Wilson included in the New Zealand team for his first one day international since March 1993 He was taught a harsh lesson as his six overs cost 57 runs with only left arm spinner Vettori 0 31 from 10 able to exercise any measure of control over the Australian batsmen  Gilchrist was caught behind off Daryl Tuffey from the second ball of the match but Hayden and Ponting set about putting things right with a stand of 99 for the second wicket Ponting cleared the ropes twice as he raced to 50 off 51 balls but only added three more before he was run out by Hamish Marshall By then Hayden was into his stride and he and Martyn added 133 although it took them 24 overs Martyn was run out off the final ball of the 41st over but the final nine cost the Kiwis 82 runs as Australia raised the tempo Hayden s century came up off 110 balls but he eventually fell to a catch by Wilson off Kyle Mills leaving Michael Clarke to add 23 off 13 balls and Mike Hussey 32 not out off 20 as the total mounted past 300  The new ball pairing of Brett Lee and Glenn McGrath made short work of New Zealand s top order claiming two wickets each all of them catches behind the wicket by Gilchrist He claimed another when Andrew Symonds found the edge of Craig McMillan s bat and when Chris Cairns followed for 22 caught by Hayden the home side were in danger of being embarrassed Vettori and Brendon McCullum 20 halted their decline by sharing a stand of 62 before McCullum gave a return catch to Symonds who finished with 3 41 Wilson made 22 in an eighth wicket stand of 62 but the end came quickly once he was caught by Ponting off Jason Gillespie Having passed fifty for the first time in a limited overs international Vettori was denied a century when he was caught at deep square leg off Gillespie after hitting 10 fours in his 77 ball knock Mills was last to go run out by Clarke after setting off for a quick single and being sent back by Tuffey  S P Fleming N J Astle M S Sinclair J Wilson C D McMillan H J H Marshall C L Cairns B B McCullum K D Mills D L Vettori D R Tuffey  M L Hayden A C Gilchrist R T Ponting D R Martyn A Symonds M J Clarke M E K Hussey G B Hogg B Lee J Gillespie G D McGrath JDKC 105M Second one day international Christchurch Australia 314 6 50 overs beat New Zealand 208 40 4 overs by 106 runs\n",
      " JDKC 105M Second one day international Christchurch Australia 314 6 50 overs beat New Zealand 208 40 4 overs by 106 runs  Ricky Ponting 53 and Damien Martyn 58 provided the main support for Hayden who hit two sixes and 12 fours They eventually totalled 314 6 and the game was as good as over when New Zealand slumped to 73 6 in reply with Adam Gilchrist taking five catches Daniel Vettori made a rapid 83 but they were all out for 208 in the 41st over New Zealand must now win all three remaining matches to take the series but such a turn round looked a remote possibility at Jade Stadium Skipepr Stephen Fleming chose to put Australia in after winning the toss with former rugby star Jeff Wilson included in the New Zealand team for his first one day international since March 1993 He was taught a harsh lesson as his six overs cost 57 runs with only left arm spinner Vettori 0 31 from 10 able to exercise any measure of control over the Australian batsmen  Gilchrist was caught behind off Daryl Tuffey from the second ball of the match but Hayden and Ponting set about putting things right with a stand of 99 for the second wicket Ponting cleared the ropes twice as he raced to 50 off 51 balls but only added three more before he was run out by Hamish Marshall By then Hayden was into his stride and he and Martyn added 133 although it took them 24 overs Martyn was run out off the final ball of the 41st over but the final nine cost the Kiwis 82 runs as Australia raised the tempo Hayden s century came up off 110 balls but he eventually fell to a catch by Wilson off Kyle Mills leaving Michael Clarke to add 23 off 13 balls and Mike Hussey 32 not out off 20 as the total mounted past 300  The new ball pairing of Brett Lee and Glenn McGrath made short work of New Zealand s top order claiming two wickets each all of them catches behind the wicket by Gilchrist He claimed another when Andrew Symonds found the edge of Craig McMillan s bat and when Chris Cairns followed for 22 caught by Hayden the home side were in danger of being embarrassed Vettori and Brendon McCullum 20 halted their decline by sharing a stand of 62 before McCullum gave a return catch to Symonds who finished with 3 41 Wilson made 22 in an eighth wicket stand of 62 but the end came quickly once he was caught by Ponting off Jason Gillespie Having passed fifty for the first time in a limited overs international Vettori was denied a century when he was caught at deep square leg off Gillespie after hitting 10 fours in his 77 ball knock Mills was last to go run out by Clarke after setting off for a quick single and being sent back by Tuffey  S P Fleming N J Astle M S Sinclair J Wilson C D McMillan H J H Marshall C L Cairns B B McCullum K D Mills D L Vettori D R Tuffey  M L Hayden A C Gilchrist R T Ponting D R Martyn A Symonds M J Clarke M E K Hussey G B Hogg B Lee J Gillespie G D McGrath JDKC 105M Second one day international Christchurch Australia 314 6 50 overs beat New Zealand 208 40 4 overs by 106 runs \n",
      " JDKC 105M Second one day international Christchurch Australia 314 6 50 overs beat New Zealand 208 40 4 overs by 106 runs  Ricky Ponting 53 and Damien Martyn 58 provided the main support for Hayden who hit two sixes and 12 fours They eventually totalled 314 6 and the game was as good as over when New Zealand slumped to 73 6 in reply with Adam Gilchrist taking five catches Daniel Vettori made a rapid 83 but they were all out for 208 in the 41st over New Zealand must now win all three remaining matches to take the series but such a turn round looked a remote possibility at Jade Stadium Skipepr Stephen Fleming chose to put Australia in after winning the toss with former rugby star Jeff Wilson included in the New Zealand team for his first one day international since March 1993 He was taught a harsh lesson as his six overs cost 57 runs with only left arm spinner Vettori 0 31 from 10 able to exercise any measure of control over the Australian batsmen  Gilchrist was caught behind off Daryl Tuffey from the second ball of the match but Hayden and Ponting set about putting things right with a stand of 99 for the second wicket Ponting cleared the ropes twice as he raced to 50 off 51 balls but only added three more before he was run out by Hamish Marshall By then Hayden was into his stride and he and Martyn added 133 although it took them 24 overs Martyn was run out off the final ball of the 41st over but the final nine cost the Kiwis 82 runs as Australia raised the tempo Hayden s century came up off 110 balls but he eventually fell to a catch by Wilson off Kyle Mills leaving Michael Clarke to add 23 off 13 balls and Mike Hussey 32 not out off 20 as the total mounted past 300  The new ball pairing of Brett Lee and Glenn McGrath made short work of New Zealand s top order claiming two wickets each all of them catches behind the wicket by Gilchrist He claimed another when Andrew Symonds found the edge of Craig McMillan s bat and when Chris Cairns followed for 22 caught by Hayden the home side were in danger of being embarrassed Vettori and Brendon McCullum 20 halted their decline by sharing a stand of 62 before McCullum gave a return catch to Symonds who finished with 3 41 Wilson made 22 in an eighth wicket stand of 62 but the end came quickly once he was caught by Ponting off Jason Gillespie Having passed fifty for the first time in a limited overs international Vettori was denied a century when he was caught at deep square leg off Gillespie after hitting 10 fours in his 77 ball knock Mills was last to go run out by Clarke after setting off for a quick single and being sent back by Tuffey  S P Fleming N J Astle M S Sinclair J Wilson C D McMillan H J H Marshall C L Cairns B B McCullum K D Mills D L Vettori D R Tuffey  M L Hayden A C Gilchrist R T Ponting D R Martyn A Symonds M J Clarke M E K Hussey G B Hogg B Lee J Gillespie G D McGrath JDKC 105M Second one day international Christchurch Australia 314 6 50 overs beat New Zealand 208 40 4 overs by 106 runs  Ricky Ponting 53 and Damien Martyn 58 provided the main support for Hayden who hit two sixes and 12 fours They eventually totalled 314 6 and the game was as good as over when New Zealand slumped to 73 6 in reply with Adam Gilchrist taking five catches Daniel Vettori made a rapid 83 but they were all out for 208 in the 41st over New Zealand must now win all three remaining matches to take the series but such a turn round looked a remote possibility at Jade Stadium Skipepr Stephen Fleming chose to put Australia in after winning the toss with former rugby star Jeff Wilson included in the New Zealand team for his first one day international since March 1993 He was taught a harsh lesson as his six overs cost 57 runs with only left arm spinner Vettori 0 31 from 10 able to exercise any measure of control over the Australian batsmen\n",
      " JDKC 105M Second one day international Christchurch Australia 314 6 50 overs beat New Zealand 208 40 4 overs by 106 runs  Ricky Ponting 53 and Damien Martyn 58 provided the main support for Hayden who hit two sixes and 12 fours They eventually totalled 314 6 and the game was as good as over when New Zealand slumped to 73 6 in reply with Adam Gilchrist taking five catches Daniel Vettori made a rapid 83 but they were all out for 208 in the 41st over New Zealand must now win all three remaining matches to take the series but such a turn round looked a remote possibility at Jade Stadium Skipepr Stephen Fleming chose to put Australia in after winning the toss with former rugby star Jeff Wilson included in the New Zealand team for his first one day international since March 1993 He was taught a harsh lesson as his six overs cost 57 runs with only left arm spinner Vettori 0 31 from 10 able to exercise any measure of control over the Australian batsmen  Gilchrist was caught behind off Daryl Tuffey from the second ball of the match but Hayden and Ponting set about putting things right with a stand of 99 for the second wicket Ponting cleared the ropes twice as he raced to 50 off 51 balls but only added three more before he was run out by Hamish Marshall By then Hayden was into his stride and he and Martyn added 133 although it took them 24 overs Martyn was run out off the final ball of the 41st over but the final nine cost the Kiwis 82 runs as Australia raised the tempo Hayden s century came up off 110 balls but he eventually fell to a catch by Wilson off Kyle Mills leaving Michael Clarke to add 23 off 13 balls and Mike Hussey 32 not out off 20 as the total mounted past 300  The new ball pairing of Brett Lee and Glenn McGrath made short work of New Zealand s top order claiming two wickets each all of them catches behind the wicket by Gilchrist He claimed another when Andrew Symonds found the edge of Craig McMillan s bat and when Chris Cairns followed for 22 caught by Hayden the home side were in danger of being embarrassed Vettori and Brendon McCullum 20 halted their decline by sharing a stand of 62 before McCullum gave a return catch to Symonds who finished with 3 41 Wilson made 22 in an eighth wicket stand of 62 but the end came quickly once he was caught by Ponting off Jason Gillespie Having passed fifty for the first time in a limited overs international Vettori was denied a century when he was caught at deep square leg off Gillespie after hitting 10 fours in his 77 ball knock Mills was last to go run out by Clarke after setting off for a quick single and being sent back by Tuffey  S P Fleming N J Astle M S Sinclair J Wilson C D McMillan H J H Marshall C L Cairns B B McCullum K D Mills D L Vettori D R Tuffey  M L Hayden A C Gilchrist R T Ponting D R Martyn A Symonds M J Clarke M E K Hussey G B Hogg B Lee J Gillespie G D McGrath JDKC 105M Second one day international Christchurch Australia 314 6 50 overs beat New Zealand 208 40 4 overs by 106 runs  Ricky Ponting 53 and Damien Martyn 58 provided the main support for Hayden who hit two sixes and 12 fours They eventually totalled 314 6 and the game was as good as over when New Zealand slumped to 73 6 in reply with Adam Gilchrist taking five catches Daniel Vettori made a rapid 83 but they were all out for 208 in the 41st over New Zealand must now win all three remaining matches to take the series but such a turn round looked a remote possibility at Jade Stadium Skipepr Stephen Fleming chose to put Australia in after winning the toss with former rugby star Jeff Wilson included in the New Zealand team for his first one day international since March 1993 He was taught a harsh lesson as his six overs cost 57 runs with only left arm spinner Vettori 0 31 from 10 able to exercise any measure of control over the Australian batsmen \n",
      " JDKC 105M Second one day international Christchurch Australia 314 6 50 overs beat New Zealand 208 40 4 overs by 106 runs  Ricky Ponting 53 and Damien Martyn 58 provided the main support for Hayden who hit two sixes and 12 fours They eventually totalled 314 6 and the game was as good as over when New Zealand slumped to 73 6 in reply with Adam Gilchrist taking five catches Daniel Vettori made a rapid 83 but they were all out for 208 in the 41st over New Zealand must now win all three remaining matches to take the series but such a turn round looked a remote possibility at Jade Stadium Skipepr Stephen Fleming chose to put Australia in after winning the toss with former rugby star Jeff Wilson included in the New Zealand team for his first one day international since March 1993 He was taught a harsh lesson as his six overs cost 57 runs with only left arm spinner Vettori 0 31 from 10 able to exercise any measure of control over the Australian batsmen  Gilchrist was caught behind off Daryl Tuffey from the second ball of the match but Hayden and Ponting set about putting things right with a stand of 99 for the second wicket Ponting cleared the ropes twice as he raced to 50 off 51 balls but only added three more before he was run out by Hamish Marshall By then Hayden was into his stride and he and Martyn added 133 although it took them 24 overs Martyn was run out off the final ball of the 41st over but the final nine cost the Kiwis 82 runs as Australia raised the tempo Hayden s century came up off 110 balls but he eventually fell to a catch by Wilson off Kyle Mills leaving Michael Clarke to add 23 off 13 balls and Mike Hussey 32 not out off 20 as the total mounted past 300  The new ball pairing of Brett Lee and Glenn McGrath made short work of New Zealand s top order claiming two wickets each all of them catches behind the wicket by Gilchrist He claimed another when Andrew Symonds found the edge of Craig McMillan s bat and when Chris Cairns followed for 22 caught by Hayden the home side were in danger of being embarrassed Vettori and Brendon McCullum 20 halted their decline by sharing a stand of 62 before McCullum gave a return catch to Symonds who finished with 3 41 Wilson made 22 in an eighth wicket stand of 62 but the end came quickly once he was caught by Ponting off Jason Gillespie Having passed fifty for the first time in a limited overs international Vettori was denied a century when he was caught at deep square leg off Gillespie after hitting 10 fours in his 77 ball knock Mills was last to go run out by Clarke after setting off for a quick single and being sent back by Tuffey  S P Fleming N J Astle M S Sinclair J Wilson C D McMillan H J H Marshall C L Cairns B B McCullum K D Mills D L Vettori D R Tuffey  M L Hayden A C Gilchrist R T Ponting D R Martyn A Symonds M J Clarke M E K Hussey G B Hogg B Lee J Gillespie G D McGrath JDKC 105M Second one day international Christchurch Australia 314 6 50 overs beat New Zealand 208 40 4 overs by 106 runs  Ricky Ponting 53 and Damien Martyn 58 provided the main support for Hayden who hit two sixes and 12 fours They eventually totalled 314 6 and the game was as good as over when New Zealand slumped to 73 6 in reply with Adam Gilchrist taking five catches Daniel Vettori made a rapid 83 but they were all out for 208 in the 41st over New Zealand must now win all three remaining matches to take the series but such a turn round looked a remote possibility at Jade Stadium Skipepr Stephen Fleming chose to put Australia in after winning the toss with former rugby star Jeff Wilson included in the New Zealand team for his first one day international since March 1993 He was taught a harsh lesson as his six overs cost 57 runs with only left arm spinner Vettori 0 31 from 10 able to exercise any measure of control over the Australian batsmen  Gilchrist was caught behind off Daryl Tuffey from the second ball of the match but Hayden and Ponting set about putting things right with a stand of 99 for the second wicket Ponting cleared the ropes twice as he raced to 50 off 51 balls but only added three more before he was run out by Hamish Marshall By then Hayden was into his stride and he and Martyn added 133 although it took them 24 overs Martyn was run out off the final ball of the 41st over but the final nine cost the Kiwis 82 runs as Australia raised the tempo Hayden s century came up off 110 balls but he eventually fell to a catch by Wilson off Kyle Mills leaving Michael Clarke to add 23 off 13 balls and Mike Hussey 32 not out off 20 as the total mounted past 300\n",
      " JDKC 105M Second one day international Christchurch Australia 314 6 50 overs beat New Zealand 208 40 4 overs by 106 runs  Ricky Ponting 53 and Damien Martyn 58 provided the main support for Hayden who hit two sixes and 12 fours They eventually totalled 314 6 and the game was as good as over when New Zealand slumped to 73 6 in reply with Adam Gilchrist taking five catches Daniel Vettori made a rapid 83 but they were all out for 208 in the 41st over New Zealand must now win all three remaining matches to take the series but such a turn round looked a remote possibility at Jade Stadium Skipepr Stephen Fleming chose to put Australia in after winning the toss with former rugby star Jeff Wilson included in the New Zealand team for his first one day international since March 1993 He was taught a harsh lesson as his six overs cost 57 runs with only left arm spinner Vettori 0 31 from 10 able to exercise any measure of control over the Australian batsmen  Gilchrist was caught behind off Daryl Tuffey from the second ball of the match but Hayden and Ponting set about putting things right with a stand of 99 for the second wicket Ponting cleared the ropes twice as he raced to 50 off 51 balls but only added three more before he was run out by Hamish Marshall By then Hayden was into his stride and he and Martyn added 133 although it took them 24 overs Martyn was run out off the final ball of the 41st over but the final nine cost the Kiwis 82 runs as Australia raised the tempo Hayden s century came up off 110 balls but he eventually fell to a catch by Wilson off Kyle Mills leaving Michael Clarke to add 23 off 13 balls and Mike Hussey 32 not out off 20 as the total mounted past 300  The new ball pairing of Brett Lee and Glenn McGrath made short work of New Zealand s top order claiming two wickets each all of them catches behind the wicket by Gilchrist He claimed another when Andrew Symonds found the edge of Craig McMillan s bat and when Chris Cairns followed for 22 caught by Hayden the home side were in danger of being embarrassed Vettori and Brendon McCullum 20 halted their decline by sharing a stand of 62 before McCullum gave a return catch to Symonds who finished with 3 41 Wilson made 22 in an eighth wicket stand of 62 but the end came quickly once he was caught by Ponting off Jason Gillespie Having passed fifty for the first time in a limited overs international Vettori was denied a century when he was caught at deep square leg off Gillespie after hitting 10 fours in his 77 ball knock Mills was last to go run out by Clarke after setting off for a quick single and being sent back by Tuffey  S P Fleming N J Astle M S Sinclair J Wilson C D McMillan H J H Marshall C L Cairns B B McCullum K D Mills D L Vettori D R Tuffey  M L Hayden A C Gilchrist R T Ponting D R Martyn A Symonds M J Clarke M E K Hussey G B Hogg B Lee J Gillespie G D McGrath JDKC 105M Second one day international Christchurch Australia 314 6 50 overs beat New Zealand 208 40 4 overs by 106 runs  Ricky Ponting 53 and Damien Martyn 58 provided the main support for Hayden who hit two sixes and 12 fours They eventually totalled 314 6 and the game was as good as over when New Zealand slumped to 73 6 in reply with Adam Gilchrist taking five catches Daniel Vettori made a rapid 83 but they were all out for 208 in the 41st over New Zealand must now win all three remaining matches to take the series but such a turn round looked a remote possibility at Jade Stadium Skipepr Stephen Fleming chose to put Australia in after winning the toss with former rugby star Jeff Wilson included in the New Zealand team for his first one day international since March 1993 He was taught a harsh lesson as his six overs cost 57 runs with only left arm spinner Vettori 0 31 from 10 able to exercise any measure of control over the Australian batsmen  Gilchrist was caught behind off Daryl Tuffey from the second ball of the match but Hayden and Ponting set about putting things right with a stand of 99 for the second wicket Ponting cleared the ropes twice as he raced to 50 off 51 balls but only added three more before he was run out by Hamish Marshall By then Hayden was into his stride and he and Martyn added 133 although it took them 24 overs Martyn was run out off the final ball of the 41st over but the final nine cost the Kiwis 82 runs as Australia raised the tempo Hayden s century came up off 110 balls but he eventually fell to a catch by Wilson off Kyle Mills leaving Michael Clarke to add 23 off 13 balls and Mike Hussey 32 not out off 20 as the total mounted past 300 \n",
      " JDKC 105M Second one day international Christchurch Australia 314 6 50 overs beat New Zealand 208 40 4 overs by 106 runs  Ricky Ponting 53 and Damien Martyn 58 provided the main support for Hayden who hit two sixes and 12 fours They eventually totalled 314 6 and the game was as good as over when New Zealand slumped to 73 6 in reply with Adam Gilchrist taking five catches Daniel Vettori made a rapid 83 but they were all out for 208 in the 41st over New Zealand must now win all three remaining matches to take the series but such a turn round looked a remote possibility at Jade Stadium Skipepr Stephen Fleming chose to put Australia in after winning the toss with former rugby star Jeff Wilson included in the New Zealand team for his first one day international since March 1993 He was taught a harsh lesson as his six overs cost 57 runs with only left arm spinner Vettori 0 31 from 10 able to exercise any measure of control over the Australian batsmen  Gilchrist was caught behind off Daryl Tuffey from the second ball of the match but Hayden and Ponting set about putting things right with a stand of 99 for the second wicket Ponting cleared the ropes twice as he raced to 50 off 51 balls but only added three more before he was run out by Hamish Marshall By then Hayden was into his stride and he and Martyn added 133 although it took them 24 overs Martyn was run out off the final ball of the 41st over but the final nine cost the Kiwis 82 runs as Australia raised the tempo Hayden s century came up off 110 balls but he eventually fell to a catch by Wilson off Kyle Mills leaving Michael Clarke to add 23 off 13 balls and Mike Hussey 32 not out off 20 as the total mounted past 300  The new ball pairing of Brett Lee and Glenn McGrath made short work of New Zealand s top order claiming two wickets each all of them catches behind the wicket by Gilchrist He claimed another when Andrew Symonds found the edge of Craig McMillan s bat and when Chris Cairns followed for 22 caught by Hayden the home side were in danger of being embarrassed Vettori and Brendon McCullum 20 halted their decline by sharing a stand of 62 before McCullum gave a return catch to Symonds who finished with 3 41 Wilson made 22 in an eighth wicket stand of 62 but the end came quickly once he was caught by Ponting off Jason Gillespie Having passed fifty for the first time in a limited overs international Vettori was denied a century when he was caught at deep square leg off Gillespie after hitting 10 fours in his 77 ball knock Mills was last to go run out by Clarke after setting off for a quick single and being sent back by Tuffey  S P Fleming N J Astle M S Sinclair J Wilson C D McMillan H J H Marshall C L Cairns B B McCullum K D Mills D L Vettori D R Tuffey  M L Hayden A C Gilchrist R T Ponting D R Martyn A Symonds M J Clarke M E K Hussey G B Hogg B Lee J Gillespie G D McGrath JDKC 105M Second one day international Christchurch Australia 314 6 50 overs beat New Zealand 208 40 4 overs by 106 runs  Ricky Ponting 53 and Damien Martyn 58 provided the main support for Hayden who hit two sixes and 12 fours They eventually totalled 314 6 and the game was as good as over when New Zealand slumped to 73 6 in reply with Adam Gilchrist taking five catches Daniel Vettori made a rapid 83 but they were all out for 208 in the 41st over New Zealand must now win all three remaining matches to take the series but such a turn round looked a remote possibility at Jade Stadium Skipepr Stephen Fleming chose to put Australia in after winning the toss with former rugby star Jeff Wilson included in the New Zealand team for his first one day international since March 1993 He was taught a harsh lesson as his six overs cost 57 runs with only left arm spinner Vettori 0 31 from 10 able to exercise any measure of control over the Australian batsmen  Gilchrist was caught behind off Daryl Tuffey from the second ball of the match but Hayden and Ponting set about putting things right with a stand of 99 for the second wicket Ponting cleared the ropes twice as he raced to 50 off 51 balls but only added three more before he was run out by Hamish Marshall By then Hayden was into his stride and he and Martyn added 133 although it took them 24 overs Martyn was run out off the final ball of the 41st over but the final nine cost the Kiwis 82 runs as Australia raised the tempo Hayden s century came up off 110 balls but he eventually fell to a catch by Wilson off Kyle Mills leaving Michael Clarke to add 23 off 13 balls and Mike Hussey 32 not out off 20 as the total mounted past 300  The new ball pairing of Brett Lee and Glenn McGrath made short work of New Zealand s top order claiming two wickets each all of them catches behind the wicket by Gilchrist He claimed another when Andrew Symonds found the edge of Craig McMillan s bat and when Chris Cairns followed for 22 caught by Hayden the home side were in danger of being embarrassed Vettori and Brendon McCullum 20 halted their decline by sharing a stand of 62 before McCullum gave a return catch to Symonds who finished with 3 41 Wilson made 22 in an eighth wicket stand of 62 but the end came quickly once he was caught by Ponting off Jason Gillespie Having passed fifty for the first time in a limited overs international Vettori was denied a century when he was caught at deep square leg off Gillespie after hitting 10 fours in his 77 ball knock Mills was last to go run out by Clarke after setting off for a quick single and being sent back by Tuffey\n",
      " JDKC 105M Second one day international Christchurch Australia 314 6 50 overs beat New Zealand 208 40 4 overs by 106 runs  Ricky Ponting 53 and Damien Martyn 58 provided the main support for Hayden who hit two sixes and 12 fours They eventually totalled 314 6 and the game was as good as over when New Zealand slumped to 73 6 in reply with Adam Gilchrist taking five catches Daniel Vettori made a rapid 83 but they were all out for 208 in the 41st over New Zealand must now win all three remaining matches to take the series but such a turn round looked a remote possibility at Jade Stadium Skipepr Stephen Fleming chose to put Australia in after winning the toss with former rugby star Jeff Wilson included in the New Zealand team for his first one day international since March 1993 He was taught a harsh lesson as his six overs cost 57 runs with only left arm spinner Vettori 0 31 from 10 able to exercise any measure of control over the Australian batsmen  Gilchrist was caught behind off Daryl Tuffey from the second ball of the match but Hayden and Ponting set about putting things right with a stand of 99 for the second wicket Ponting cleared the ropes twice as he raced to 50 off 51 balls but only added three more before he was run out by Hamish Marshall By then Hayden was into his stride and he and Martyn added 133 although it took them 24 overs Martyn was run out off the final ball of the 41st over but the final nine cost the Kiwis 82 runs as Australia raised the tempo Hayden s century came up off 110 balls but he eventually fell to a catch by Wilson off Kyle Mills leaving Michael Clarke to add 23 off 13 balls and Mike Hussey 32 not out off 20 as the total mounted past 300  The new ball pairing of Brett Lee and Glenn McGrath made short work of New Zealand s top order claiming two wickets each all of them catches behind the wicket by Gilchrist He claimed another when Andrew Symonds found the edge of Craig McMillan s bat and when Chris Cairns followed for 22 caught by Hayden the home side were in danger of being embarrassed Vettori and Brendon McCullum 20 halted their decline by sharing a stand of 62 before McCullum gave a return catch to Symonds who finished with 3 41 Wilson made 22 in an eighth wicket stand of 62 but the end came quickly once he was caught by Ponting off Jason Gillespie Having passed fifty for the first time in a limited overs international Vettori was denied a century when he was caught at deep square leg off Gillespie after hitting 10 fours in his 77 ball knock Mills was last to go run out by Clarke after setting off for a quick single and being sent back by Tuffey  S P Fleming N J Astle M S Sinclair J Wilson C D McMillan H J H Marshall C L Cairns B B McCullum K D Mills D L Vettori D R Tuffey  M L Hayden A C Gilchrist R T Ponting D R Martyn A Symonds M J Clarke M E K Hussey G B Hogg B Lee J Gillespie G D McGrath JDKC 105M Second one day international Christchurch Australia 314 6 50 overs beat New Zealand 208 40 4 overs by 106 runs  Ricky Ponting 53 and Damien Martyn 58 provided the main support for Hayden who hit two sixes and 12 fours They eventually totalled 314 6 and the game was as good as over when New Zealand slumped to 73 6 in reply with Adam Gilchrist taking five catches Daniel Vettori made a rapid 83 but they were all out for 208 in the 41st over New Zealand must now win all three remaining matches to take the series but such a turn round looked a remote possibility at Jade Stadium Skipepr Stephen Fleming chose to put Australia in after winning the toss with former rugby star Jeff Wilson included in the New Zealand team for his first one day international since March 1993 He was taught a harsh lesson as his six overs cost 57 runs with only left arm spinner Vettori 0 31 from 10 able to exercise any measure of control over the Australian batsmen  Gilchrist was caught behind off Daryl Tuffey from the second ball of the match but Hayden and Ponting set about putting things right with a stand of 99 for the second wicket Ponting cleared the ropes twice as he raced to 50 off 51 balls but only added three more before he was run out by Hamish Marshall By then Hayden was into his stride and he and Martyn added 133 although it took them 24 overs Martyn was run out off the final ball of the 41st over but the final nine cost the Kiwis 82 runs as Australia raised the tempo Hayden s century came up off 110 balls but he eventually fell to a catch by Wilson off Kyle Mills leaving Michael Clarke to add 23 off 13 balls and Mike Hussey 32 not out off 20 as the total mounted past 300  The new ball pairing of Brett Lee and Glenn McGrath made short work of New Zealand s top order claiming two wickets each all of them catches behind the wicket by Gilchrist He claimed another when Andrew Symonds found the edge of Craig McMillan s bat and when Chris Cairns followed for 22 caught by Hayden the home side were in danger of being embarrassed Vettori and Brendon McCullum 20 halted their decline by sharing a stand of 62 before McCullum gave a return catch to Symonds who finished with 3 41 Wilson made 22 in an eighth wicket stand of 62 but the end came quickly once he was caught by Ponting off Jason Gillespie Having passed fifty for the first time in a limited overs international Vettori was denied a century when he was caught at deep square leg off Gillespie after hitting 10 fours in his 77 ball knock Mills was last to go run out by Clarke after setting off for a quick single and being sent back by Tuffey \n",
      " JDKC 105M Second one day international Christchurch Australia 314 6 50 overs beat New Zealand 208 40 4 overs by 106 runs  Ricky Ponting 53 and Damien Martyn 58 provided the main support for Hayden who hit two sixes and 12 fours They eventually totalled 314 6 and the game was as good as over when New Zealand slumped to 73 6 in reply with Adam Gilchrist taking five catches Daniel Vettori made a rapid 83 but they were all out for 208 in the 41st over New Zealand must now win all three remaining matches to take the series but such a turn round looked a remote possibility at Jade Stadium Skipepr Stephen Fleming chose to put Australia in after winning the toss with former rugby star Jeff Wilson included in the New Zealand team for his first one day international since March 1993 He was taught a harsh lesson as his six overs cost 57 runs with only left arm spinner Vettori 0 31 from 10 able to exercise any measure of control over the Australian batsmen  Gilchrist was caught behind off Daryl Tuffey from the second ball of the match but Hayden and Ponting set about putting things right with a stand of 99 for the second wicket Ponting cleared the ropes twice as he raced to 50 off 51 balls but only added three more before he was run out by Hamish Marshall By then Hayden was into his stride and he and Martyn added 133 although it took them 24 overs Martyn was run out off the final ball of the 41st over but the final nine cost the Kiwis 82 runs as Australia raised the tempo Hayden s century came up off 110 balls but he eventually fell to a catch by Wilson off Kyle Mills leaving Michael Clarke to add 23 off 13 balls and Mike Hussey 32 not out off 20 as the total mounted past 300  The new ball pairing of Brett Lee and Glenn McGrath made short work of New Zealand s top order claiming two wickets each all of them catches behind the wicket by Gilchrist He claimed another when Andrew Symonds found the edge of Craig McMillan s bat and when Chris Cairns followed for 22 caught by Hayden the home side were in danger of being embarrassed Vettori and Brendon McCullum 20 halted their decline by sharing a stand of 62 before McCullum gave a return catch to Symonds who finished with 3 41 Wilson made 22 in an eighth wicket stand of 62 but the end came quickly once he was caught by Ponting off Jason Gillespie Having passed fifty for the first time in a limited overs international Vettori was denied a century when he was caught at deep square leg off Gillespie after hitting 10 fours in his 77 ball knock Mills was last to go run out by Clarke after setting off for a quick single and being sent back by Tuffey  S P Fleming N J Astle M S Sinclair J Wilson C D McMillan H J H Marshall C L Cairns B B McCullum K D Mills D L Vettori D R Tuffey  M L Hayden A C Gilchrist R T Ponting D R Martyn A Symonds M J Clarke M E K Hussey G B Hogg B Lee J Gillespie G D McGrath JDKC 105M Second one day international Christchurch Australia 314 6 50 overs beat New Zealand 208 40 4 overs by 106 runs  Ricky Ponting 53 and Damien Martyn 58 provided the main support for Hayden who hit two sixes and 12 fours They eventually totalled 314 6 and the game was as good as over when New Zealand slumped to 73 6 in reply with Adam Gilchrist taking five catches Daniel Vettori made a rapid 83 but they were all out for 208 in the 41st over New Zealand must now win all three remaining matches to take the series but such a turn round looked a remote possibility at Jade Stadium Skipepr Stephen Fleming chose to put Australia in after winning the toss with former rugby star Jeff Wilson included in the New Zealand team for his first one day international since March 1993 He was taught a harsh lesson as his six overs cost 57 runs with only left arm spinner Vettori 0 31 from 10 able to exercise any measure of control over the Australian batsmen  Gilchrist was caught behind off Daryl Tuffey from the second ball of the match but Hayden and Ponting set about putting things right with a stand of 99 for the second wicket Ponting cleared the ropes twice as he raced to 50 off 51 balls but only added three more before he was run out by Hamish Marshall By then Hayden was into his stride and he and Martyn added 133 although it took them 24 overs Martyn was run out off the final ball of the 41st over but the final nine cost the Kiwis 82 runs as Australia raised the tempo Hayden s century came up off 110 balls but he eventually fell to a catch by Wilson off Kyle Mills leaving Michael Clarke to add 23 off 13 balls and Mike Hussey 32 not out off 20 as the total mounted past 300  The new ball pairing of Brett Lee and Glenn McGrath made short work of New Zealand s top order claiming two wickets each all of them catches behind the wicket by Gilchrist He claimed another when Andrew Symonds found the edge of Craig McMillan s bat and when Chris Cairns followed for 22 caught by Hayden the home side were in danger of being embarrassed Vettori and Brendon McCullum 20 halted their decline by sharing a stand of 62 before McCullum gave a return catch to Symonds who finished with 3 41 Wilson made 22 in an eighth wicket stand of 62 but the end came quickly once he was caught by Ponting off Jason Gillespie Having passed fifty for the first time in a limited overs international Vettori was denied a century when he was caught at deep square leg off Gillespie after hitting 10 fours in his 77 ball knock Mills was last to go run out by Clarke after setting off for a quick single and being sent back by Tuffey  S P Fleming N J Astle M S Sinclair J Wilson C D McMillan H J H Marshall C L Cairns B B McCullum K D Mills D L Vettori D R Tuffey\n",
      " JDKC 105M Second one day international Christchurch Australia 314 6 50 overs beat New Zealand 208 40 4 overs by 106 runs  Ricky Ponting 53 and Damien Martyn 58 provided the main support for Hayden who hit two sixes and 12 fours They eventually totalled 314 6 and the game was as good as over when New Zealand slumped to 73 6 in reply with Adam Gilchrist taking five catches Daniel Vettori made a rapid 83 but they were all out for 208 in the 41st over New Zealand must now win all three remaining matches to take the series but such a turn round looked a remote possibility at Jade Stadium Skipepr Stephen Fleming chose to put Australia in after winning the toss with former rugby star Jeff Wilson included in the New Zealand team for his first one day international since March 1993 He was taught a harsh lesson as his six overs cost 57 runs with only left arm spinner Vettori 0 31 from 10 able to exercise any measure of control over the Australian batsmen  Gilchrist was caught behind off Daryl Tuffey from the second ball of the match but Hayden and Ponting set about putting things right with a stand of 99 for the second wicket Ponting cleared the ropes twice as he raced to 50 off 51 balls but only added three more before he was run out by Hamish Marshall By then Hayden was into his stride and he and Martyn added 133 although it took them 24 overs Martyn was run out off the final ball of the 41st over but the final nine cost the Kiwis 82 runs as Australia raised the tempo Hayden s century came up off 110 balls but he eventually fell to a catch by Wilson off Kyle Mills leaving Michael Clarke to add 23 off 13 balls and Mike Hussey 32 not out off 20 as the total mounted past 300  The new ball pairing of Brett Lee and Glenn McGrath made short work of New Zealand s top order claiming two wickets each all of them catches behind the wicket by Gilchrist He claimed another when Andrew Symonds found the edge of Craig McMillan s bat and when Chris Cairns followed for 22 caught by Hayden the home side were in danger of being embarrassed Vettori and Brendon McCullum 20 halted their decline by sharing a stand of 62 before McCullum gave a return catch to Symonds who finished with 3 41 Wilson made 22 in an eighth wicket stand of 62 but the end came quickly once he was caught by Ponting off Jason Gillespie Having passed fifty for the first time in a limited overs international Vettori was denied a century when he was caught at deep square leg off Gillespie after hitting 10 fours in his 77 ball knock Mills was last to go run out by Clarke after setting off for a quick single and being sent back by Tuffey  S P Fleming N J Astle M S Sinclair J Wilson C D McMillan H J H Marshall C L Cairns B B McCullum K D Mills D L Vettori D R Tuffey  M L Hayden A C Gilchrist R T Ponting D R Martyn A Symonds M J Clarke M E K Hussey G B Hogg B Lee J Gillespie G D McGrath JDKC 105M Second one day international Christchurch Australia 314 6 50 overs beat New Zealand 208 40 4 overs by 106 runs  Ricky Ponting 53 and Damien Martyn 58 provided the main support for Hayden who hit two sixes and 12 fours They eventually totalled 314 6 and the game was as good as over when New Zealand slumped to 73 6 in reply with Adam Gilchrist taking five catches Daniel Vettori made a rapid 83 but they were all out for 208 in the 41st over New Zealand must now win all three remaining matches to take the series but such a turn round looked a remote possibility at Jade Stadium Skipepr Stephen Fleming chose to put Australia in after winning the toss with former rugby star Jeff Wilson included in the New Zealand team for his first one day international since March 1993 He was taught a harsh lesson as his six overs cost 57 runs with only left arm spinner Vettori 0 31 from 10 able to exercise any measure of control over the Australian batsmen  Gilchrist was caught behind off Daryl Tuffey from the second ball of the match but Hayden and Ponting set about putting things right with a stand of 99 for the second wicket Ponting cleared the ropes twice as he raced to 50 off 51 balls but only added three more before he was run out by Hamish Marshall By then Hayden was into his stride and he and Martyn added 133 although it took them 24 overs Martyn was run out off the final ball of the 41st over but the final nine cost the Kiwis 82 runs as Australia raised the tempo Hayden s century came up off 110 balls but he eventually fell to a catch by Wilson off Kyle Mills leaving Michael Clarke to add 23 off 13 balls and Mike Hussey 32 not out off 20 as the total mounted past 300  The new ball pairing of Brett Lee and Glenn McGrath made short work of New Zealand s top order claiming two wickets each all of them catches behind the wicket by Gilchrist He claimed another when Andrew Symonds found the edge of Craig McMillan s bat and when Chris Cairns followed for 22 caught by Hayden the home side were in danger of being embarrassed Vettori and Brendon McCullum 20 halted their decline by sharing a stand of 62 before McCullum gave a return catch to Symonds who finished with 3 41 Wilson made 22 in an eighth wicket stand of 62 but the end came quickly once he was caught by Ponting off Jason Gillespie Having passed fifty for the first time in a limited overs international Vettori was denied a century when he was caught at deep square leg off Gillespie after hitting 10 fours in his 77 ball knock Mills was last to go run out by Clarke after setting off for a quick single and being sent back by Tuffey  S P Fleming N J Astle M S Sinclair J Wilson C D McMillan H J H Marshall C L Cairns B B McCullum K D Mills D L Vettori D R Tuffey \n",
      " JDKC 105M Second one day international Christchurch Australia 314 6 50 overs beat New Zealand 208 40 4 overs by 106 runs  Ricky Ponting 53 and Damien Martyn 58 provided the main support for Hayden who hit two sixes and 12 fours They eventually totalled 314 6 and the game was as good as over when New Zealand slumped to 73 6 in reply with Adam Gilchrist taking five catches Daniel Vettori made a rapid 83 but they were all out for 208 in the 41st over New Zealand must now win all three remaining matches to take the series but such a turn round looked a remote possibility at Jade Stadium Skipepr Stephen Fleming chose to put Australia in after winning the toss with former rugby star Jeff Wilson included in the New Zealand team for his first one day international since March 1993 He was taught a harsh lesson as his six overs cost 57 runs with only left arm spinner Vettori 0 31 from 10 able to exercise any measure of control over the Australian batsmen  Gilchrist was caught behind off Daryl Tuffey from the second ball of the match but Hayden and Ponting set about putting things right with a stand of 99 for the second wicket Ponting cleared the ropes twice as he raced to 50 off 51 balls but only added three more before he was run out by Hamish Marshall By then Hayden was into his stride and he and Martyn added 133 although it took them 24 overs Martyn was run out off the final ball of the 41st over but the final nine cost the Kiwis 82 runs as Australia raised the tempo Hayden s century came up off 110 balls but he eventually fell to a catch by Wilson off Kyle Mills leaving Michael Clarke to add 23 off 13 balls and Mike Hussey 32 not out off 20 as the total mounted past 300  The new ball pairing of Brett Lee and Glenn McGrath made short work of New Zealand s top order claiming two wickets each all of them catches behind the wicket by Gilchrist He claimed another when Andrew Symonds found the edge of Craig McMillan s bat and when Chris Cairns followed for 22 caught by Hayden the home side were in danger of being embarrassed Vettori and Brendon McCullum 20 halted their decline by sharing a stand of 62 before McCullum gave a return catch to Symonds who finished with 3 41 Wilson made 22 in an eighth wicket stand of 62 but the end came quickly once he was caught by Ponting off Jason Gillespie Having passed fifty for the first time in a limited overs international Vettori was denied a century when he was caught at deep square leg off Gillespie after hitting 10 fours in his 77 ball knock Mills was last to go run out by Clarke after setting off for a quick single and being sent back by Tuffey  S P Fleming N J Astle M S Sinclair J Wilson C D McMillan H J H Marshall C L Cairns B B McCullum K D Mills D L Vettori D R Tuffey  M L Hayden A C Gilchrist R T Ponting D R Martyn A Symonds M J Clarke M E K Hussey G B Hogg B Lee J Gillespie G D McGrath JDKC 105M Second one day international Christchurch Australia 314 6 50 overs beat New Zealand 208 40 4 overs by 106 runs  Ricky Ponting 53 and Damien Martyn 58 provided the main support for Hayden who hit two sixes and 12 fours They eventually totalled 314 6 and the game was as good as over when New Zealand slumped to 73 6 in reply with Adam Gilchrist taking five catches Daniel Vettori made a rapid 83 but they were all out for 208 in the 41st over New Zealand must now win all three remaining matches to take the series but such a turn round looked a remote possibility at Jade Stadium Skipepr Stephen Fleming chose to put Australia in after winning the toss with former rugby star Jeff Wilson included in the New Zealand team for his first one day international since March 1993 He was taught a harsh lesson as his six overs cost 57 runs with only left arm spinner Vettori 0 31 from 10 able to exercise any measure of control over the Australian batsmen  Gilchrist was caught behind off Daryl Tuffey from the second ball of the match but Hayden and Ponting set about putting things right with a stand of 99 for the second wicket Ponting cleared the ropes twice as he raced to 50 off 51 balls but only added three more before he was run out by Hamish Marshall By then Hayden was into his stride and he and Martyn added 133 although it took them 24 overs Martyn was run out off the final ball of the 41st over but the final nine cost the Kiwis 82 runs as Australia raised the tempo Hayden s century came up off 110 balls but he eventually fell to a catch by Wilson off Kyle Mills leaving Michael Clarke to add 23 off 13 balls and Mike Hussey 32 not out off 20 as the total mounted past 300  The new ball pairing of Brett Lee and Glenn McGrath made short work of New Zealand s top order claiming two wickets each all of them catches behind the wicket by Gilchrist He claimed another when Andrew Symonds found the edge of Craig McMillan s bat and when Chris Cairns followed for 22 caught by Hayden the home side were in danger of being embarrassed Vettori and Brendon McCullum 20 halted their decline by sharing a stand of 62 before McCullum gave a return catch to Symonds who finished with 3 41 Wilson made 22 in an eighth wicket stand of 62 but the end came quickly once he was caught by Ponting off Jason Gillespie Having passed fifty for the first time in a limited overs international Vettori was denied a century when he was caught at deep square leg off Gillespie after hitting 10 fours in his 77 ball knock Mills was last to go run out by Clarke after setting off for a quick single and being sent back by Tuffey  S P Fleming N J Astle M S Sinclair J Wilson C D McMillan H J H Marshall C L Cairns B B McCullum K D Mills D L Vettori D R Tuffey  M L Hayden A C Gilchrist R T Ponting D R Martyn A Symonds M J Clarke M E K Hussey G B Hogg B Lee J Gillespie G D McGrath\n"
     ]
    }
   ],
   "source": [
    "for line in f.readlines():\n",
    "    j = re.sub(r'\\W', ' ', line)\n",
    "    g = ' '.join(j.split())\n",
    "    new_str = new_str + ' ' + g\n",
    "    print(new_str)\n",
    "    #print(g)"
   ]
  },
  {
   "cell_type": "code",
   "execution_count": 99,
   "metadata": {},
   "outputs": [
    {
     "ename": "SyntaxError",
     "evalue": "invalid syntax (<ipython-input-99-c3047cbaab0e>, line 3)",
     "output_type": "error",
     "traceback": [
      "\u001b[1;36m  File \u001b[1;32m\"<ipython-input-99-c3047cbaab0e>\"\u001b[1;36m, line \u001b[1;32m3\u001b[0m\n\u001b[1;33m    str_3 = str_1.''join(str_2)\u001b[0m\n\u001b[1;37m                   ^\u001b[0m\n\u001b[1;31mSyntaxError\u001b[0m\u001b[1;31m:\u001b[0m invalid syntax\n"
     ]
    }
   ],
   "source": [
    "str_1= '12546'\n",
    "str_2 = 'adbd'\n",
    "str_3 = str_1.join(str_2)"
   ]
  },
  {
   "cell_type": "code",
   "execution_count": 98,
   "metadata": {},
   "outputs": [
    {
     "name": "stdout",
     "output_type": "stream",
     "text": [
      "a12546d12546b12546d\n"
     ]
    }
   ],
   "source": [
    "print(str_3)"
   ]
  },
  {
   "cell_type": "code",
   "execution_count": 82,
   "metadata": {},
   "outputs": [
    {
     "name": "stdout",
     "output_type": "stream",
     "text": [
      "M L Hayden A C Gilchrist R T Ponting D R Martyn A Symonds M J Clarke M E K Hussey G B Hogg B Lee J Gillespie G D McGrath\n"
     ]
    }
   ],
   "source": [
    "print(g)"
   ]
  },
  {
   "cell_type": "code",
   "execution_count": 131,
   "metadata": {},
   "outputs": [
    {
     "name": "stdout",
     "output_type": "stream",
     "text": [
      " JDKC 105M Second one day international Christchurch Australia 314 6 50 overs beat New Zealand 208 40 4 overs by 106 runs  Ricky Ponting 53 and Damien Martyn 58 provided the main support for Hayden who hit two sixes and 12 fours They eventually totalled 314 6 and the game was as good as over when New Zealand slumped to 73 6 in reply with Adam Gilchrist taking five catches Daniel Vettori made a rapid 83 but they were all out for 208 in the 41st over New Zealand must now win all three remaining matches to take the series but such a turn round looked a remote possibility at Jade Stadium Skipepr Stephen Fleming chose to put Australia in after winning the toss with former rugby star Jeff Wilson included in the New Zealand team for his first one day international since March 1993 He was taught a harsh lesson as his six overs cost 57 runs with only left arm spinner Vettori 0 31 from 10 able to exercise any measure of control over the Australian batsmen  Gilchrist was caught behind off Daryl Tuffey from the second ball of the match but Hayden and Ponting set about putting things right with a stand of 99 for the second wicket Ponting cleared the ropes twice as he raced to 50 off 51 balls but only added three more before he was run out by Hamish Marshall By then Hayden was into his stride and he and Martyn added 133 although it took them 24 overs Martyn was run out off the final ball of the 41st over but the final nine cost the Kiwis 82 runs as Australia raised the tempo Hayden s century came up off 110 balls but he eventually fell to a catch by Wilson off Kyle Mills leaving Michael Clarke to add 23 off 13 balls and Mike Hussey 32 not out off 20 as the total mounted past 300  The new ball pairing of Brett Lee and Glenn McGrath made short work of New Zealand s top order claiming two wickets each all of them catches behind the wicket by Gilchrist He claimed another when Andrew Symonds found the edge of Craig McMillan s bat and when Chris Cairns followed for 22 caught by Hayden the home side were in danger of being embarrassed Vettori and Brendon McCullum 20 halted their decline by sharing a stand of 62 before McCullum gave a return catch to Symonds who finished with 3 41 Wilson made 22 in an eighth wicket stand of 62 but the end came quickly once he was caught by Ponting off Jason Gillespie Having passed fifty for the first time in a limited overs international Vettori was denied a century when he was caught at deep square leg off Gillespie after hitting 10 fours in his 77 ball knock Mills was last to go run out by Clarke after setting off for a quick single and being sent back by Tuffey  S P Fleming N J Astle M S Sinclair J Wilson C D McMillan H J H Marshall C L Cairns B B McCullum K D Mills D L Vettori D R Tuffey  M L Hayden A C Gilchrist R T Ponting D R Martyn A Symonds M J Clarke M E K Hussey G B Hogg B Lee J Gillespie G D McGrath JDKC 105M Second one day international Christchurch Australia 314 6 50 overs beat New Zealand 208 40 4 overs by 106 runs  Ricky Ponting 53 and Damien Martyn 58 provided the main support for Hayden who hit two sixes and 12 fours They eventually totalled 314 6 and the game was as good as over when New Zealand slumped to 73 6 in reply with Adam Gilchrist taking five catches Daniel Vettori made a rapid 83 but they were all out for 208 in the 41st over New Zealand must now win all three remaining matches to take the series but such a turn round looked a remote possibility at Jade Stadium Skipepr Stephen Fleming chose to put Australia in after winning the toss with former rugby star Jeff Wilson included in the New Zealand team for his first one day international since March 1993 He was taught a harsh lesson as his six overs cost 57 runs with only left arm spinner Vettori 0 31 from 10 able to exercise any measure of control over the Australian batsmen  Gilchrist was caught behind off Daryl Tuffey from the second ball of the match but Hayden and Ponting set about putting things right with a stand of 99 for the second wicket Ponting cleared the ropes twice as he raced to 50 off 51 balls but only added three more before he was run out by Hamish Marshall By then Hayden was into his stride and he and Martyn added 133 although it took them 24 overs Martyn was run out off the final ball of the 41st over but the final nine cost the Kiwis 82 runs as Australia raised the tempo Hayden s century came up off 110 balls but he eventually fell to a catch by Wilson off Kyle Mills leaving Michael Clarke to add 23 off 13 balls and Mike Hussey 32 not out off 20 as the total mounted past 300  The new ball pairing of Brett Lee and Glenn McGrath made short work of New Zealand s top order claiming two wickets each all of them catches behind the wicket by Gilchrist He claimed another when Andrew Symonds found the edge of Craig McMillan s bat and when Chris Cairns followed for 22 caught by Hayden the home side were in danger of being embarrassed Vettori and Brendon McCullum 20 halted their decline by sharing a stand of 62 before McCullum gave a return catch to Symonds who finished with 3 41 Wilson made 22 in an eighth wicket stand of 62 but the end came quickly once he was caught by Ponting off Jason Gillespie Having passed fifty for the first time in a limited overs international Vettori was denied a century when he was caught at deep square leg off Gillespie after hitting 10 fours in his 77 ball knock Mills was last to go run out by Clarke after setting off for a quick single and being sent back by Tuffey  S P Fleming N J Astle M S Sinclair J Wilson C D McMillan H J H Marshall C L Cairns B B McCullum K D Mills D L Vettori D R Tuffey  M L Hayden A C Gilchrist R T Ponting D R Martyn A Symonds M J Clarke M E K Hussey G B Hogg B Lee J Gillespie G D McGrath\n"
     ]
    }
   ],
   "source": [
    "print(new_str)"
   ]
  },
  {
   "cell_type": "code",
   "execution_count": 132,
   "metadata": {},
   "outputs": [],
   "source": [
    "new_str = ' '.join(new_str.split())"
   ]
  },
  {
   "cell_type": "code",
   "execution_count": 133,
   "metadata": {},
   "outputs": [
    {
     "name": "stdout",
     "output_type": "stream",
     "text": [
      "JDKC 105M Second one day international Christchurch Australia 314 6 50 overs beat New Zealand 208 40 4 overs by 106 runs Ricky Ponting 53 and Damien Martyn 58 provided the main support for Hayden who hit two sixes and 12 fours They eventually totalled 314 6 and the game was as good as over when New Zealand slumped to 73 6 in reply with Adam Gilchrist taking five catches Daniel Vettori made a rapid 83 but they were all out for 208 in the 41st over New Zealand must now win all three remaining matches to take the series but such a turn round looked a remote possibility at Jade Stadium Skipepr Stephen Fleming chose to put Australia in after winning the toss with former rugby star Jeff Wilson included in the New Zealand team for his first one day international since March 1993 He was taught a harsh lesson as his six overs cost 57 runs with only left arm spinner Vettori 0 31 from 10 able to exercise any measure of control over the Australian batsmen Gilchrist was caught behind off Daryl Tuffey from the second ball of the match but Hayden and Ponting set about putting things right with a stand of 99 for the second wicket Ponting cleared the ropes twice as he raced to 50 off 51 balls but only added three more before he was run out by Hamish Marshall By then Hayden was into his stride and he and Martyn added 133 although it took them 24 overs Martyn was run out off the final ball of the 41st over but the final nine cost the Kiwis 82 runs as Australia raised the tempo Hayden s century came up off 110 balls but he eventually fell to a catch by Wilson off Kyle Mills leaving Michael Clarke to add 23 off 13 balls and Mike Hussey 32 not out off 20 as the total mounted past 300 The new ball pairing of Brett Lee and Glenn McGrath made short work of New Zealand s top order claiming two wickets each all of them catches behind the wicket by Gilchrist He claimed another when Andrew Symonds found the edge of Craig McMillan s bat and when Chris Cairns followed for 22 caught by Hayden the home side were in danger of being embarrassed Vettori and Brendon McCullum 20 halted their decline by sharing a stand of 62 before McCullum gave a return catch to Symonds who finished with 3 41 Wilson made 22 in an eighth wicket stand of 62 but the end came quickly once he was caught by Ponting off Jason Gillespie Having passed fifty for the first time in a limited overs international Vettori was denied a century when he was caught at deep square leg off Gillespie after hitting 10 fours in his 77 ball knock Mills was last to go run out by Clarke after setting off for a quick single and being sent back by Tuffey S P Fleming N J Astle M S Sinclair J Wilson C D McMillan H J H Marshall C L Cairns B B McCullum K D Mills D L Vettori D R Tuffey M L Hayden A C Gilchrist R T Ponting D R Martyn A Symonds M J Clarke M E K Hussey G B Hogg B Lee J Gillespie G D McGrath JDKC 105M Second one day international Christchurch Australia 314 6 50 overs beat New Zealand 208 40 4 overs by 106 runs Ricky Ponting 53 and Damien Martyn 58 provided the main support for Hayden who hit two sixes and 12 fours They eventually totalled 314 6 and the game was as good as over when New Zealand slumped to 73 6 in reply with Adam Gilchrist taking five catches Daniel Vettori made a rapid 83 but they were all out for 208 in the 41st over New Zealand must now win all three remaining matches to take the series but such a turn round looked a remote possibility at Jade Stadium Skipepr Stephen Fleming chose to put Australia in after winning the toss with former rugby star Jeff Wilson included in the New Zealand team for his first one day international since March 1993 He was taught a harsh lesson as his six overs cost 57 runs with only left arm spinner Vettori 0 31 from 10 able to exercise any measure of control over the Australian batsmen Gilchrist was caught behind off Daryl Tuffey from the second ball of the match but Hayden and Ponting set about putting things right with a stand of 99 for the second wicket Ponting cleared the ropes twice as he raced to 50 off 51 balls but only added three more before he was run out by Hamish Marshall By then Hayden was into his stride and he and Martyn added 133 although it took them 24 overs Martyn was run out off the final ball of the 41st over but the final nine cost the Kiwis 82 runs as Australia raised the tempo Hayden s century came up off 110 balls but he eventually fell to a catch by Wilson off Kyle Mills leaving Michael Clarke to add 23 off 13 balls and Mike Hussey 32 not out off 20 as the total mounted past 300 The new ball pairing of Brett Lee and Glenn McGrath made short work of New Zealand s top order claiming two wickets each all of them catches behind the wicket by Gilchrist He claimed another when Andrew Symonds found the edge of Craig McMillan s bat and when Chris Cairns followed for 22 caught by Hayden the home side were in danger of being embarrassed Vettori and Brendon McCullum 20 halted their decline by sharing a stand of 62 before McCullum gave a return catch to Symonds who finished with 3 41 Wilson made 22 in an eighth wicket stand of 62 but the end came quickly once he was caught by Ponting off Jason Gillespie Having passed fifty for the first time in a limited overs international Vettori was denied a century when he was caught at deep square leg off Gillespie after hitting 10 fours in his 77 ball knock Mills was last to go run out by Clarke after setting off for a quick single and being sent back by Tuffey S P Fleming N J Astle M S Sinclair J Wilson C D McMillan H J H Marshall C L Cairns B B McCullum K D Mills D L Vettori D R Tuffey M L Hayden A C Gilchrist R T Ponting D R Martyn A Symonds M J Clarke M E K Hussey G B Hogg B Lee J Gillespie G D McGrath\n"
     ]
    }
   ],
   "source": [
    "print(new_str)"
   ]
  },
  {
   "cell_type": "code",
   "execution_count": 77,
   "metadata": {},
   "outputs": [],
   "source": [
    "for line in f.readlines():\n",
    "    print(line)"
   ]
  },
  {
   "cell_type": "code",
   "execution_count": 11,
   "metadata": {},
   "outputs": [
    {
     "name": "stdout",
     "output_type": "stream",
     "text": [
      "s\n"
     ]
    },
    {
     "ename": "FileNotFoundError",
     "evalue": "[Errno 2] No such file or directory: 's'",
     "output_type": "error",
     "traceback": [
      "\u001b[1;31m---------------------------------------------------------------------------\u001b[0m",
      "\u001b[1;31mFileNotFoundError\u001b[0m                         Traceback (most recent call last)",
      "\u001b[1;32m<ipython-input-11-a04e7918b91f>\u001b[0m in \u001b[0;36m<module>\u001b[1;34m\u001b[0m\n\u001b[1;32m----> 1\u001b[1;33m \u001b[0mf\u001b[0m \u001b[1;33m=\u001b[0m \u001b[0mopen\u001b[0m\u001b[1;33m(\u001b[0m\u001b[1;34m'%s'\u001b[0m\u001b[1;33m%\u001b[0m\u001b[0minput\u001b[0m\u001b[1;33m(\u001b[0m\u001b[1;33m)\u001b[0m\u001b[1;33m,\u001b[0m \u001b[0mmode\u001b[0m\u001b[1;33m=\u001b[0m\u001b[1;34m'r'\u001b[0m\u001b[1;33m)\u001b[0m\u001b[1;33m\u001b[0m\u001b[1;33m\u001b[0m\u001b[0m\n\u001b[0m",
      "\u001b[1;31mFileNotFoundError\u001b[0m: [Errno 2] No such file or directory: 's'"
     ]
    }
   ],
   "source": [
    "f = open('%s'%input(), mode='r')"
   ]
  },
  {
   "cell_type": "code",
   "execution_count": 6,
   "metadata": {},
   "outputs": [],
   "source": [
    "dirs = os.listdir(\"cricket\")"
   ]
  },
  {
   "cell_type": "code",
   "execution_count": 27,
   "metadata": {},
   "outputs": [
    {
     "name": "stdout",
     "output_type": "stream",
     "text": [
      "ABCD-587890\n"
     ]
    }
   ],
   "source": [
    "j = 'ABCD-587890'\n",
    "i = pattern.search(j)\n",
    "print(i.group())"
   ]
  },
  {
   "cell_type": "code",
   "execution_count": 82,
   "metadata": {},
   "outputs": [
    {
     "name": "stdout",
     "output_type": "stream",
     "text": [
      "A string with characters µ æ Å Ç ß Some whitespace confusion\n"
     ]
    }
   ],
   "source": [
    "import unicodedata\n",
    "\n",
    "# This removes punctuation characters.\n",
    "def strip_po(s):\n",
    "    return ''.join(x for x in s if unicodedata.category(x) != 'Po')\n",
    "\n",
    "# This reduces multiple whitespace characters into a single space.\n",
    "def fix_space(s):\n",
    "    return ' '.join(s.split())\n",
    "\n",
    "s = u'A string, with      characters µ, æ, Å, Ç, ß,... Some    whitespace  confusion  ?'\n",
    "print (fix_space(strip_po(s)))"
   ]
  },
  {
   "cell_type": "code",
   "execution_count": 83,
   "metadata": {},
   "outputs": [],
   "source": [
    "j = 'j    i    5'\n",
    "j = ' '.join(j.split())"
   ]
  },
  {
   "cell_type": "code",
   "execution_count": 84,
   "metadata": {},
   "outputs": [
    {
     "name": "stdout",
     "output_type": "stream",
     "text": [
      "j i 5\n"
     ]
    }
   ],
   "source": [
    "print(j)"
   ]
  },
  {
   "cell_type": "code",
   "execution_count": null,
   "metadata": {},
   "outputs": [],
   "source": []
  }
 ],
 "metadata": {
  "kernelspec": {
   "display_name": "Python 3",
   "language": "python",
   "name": "python3"
  },
  "language_info": {
   "codemirror_mode": {
    "name": "ipython",
    "version": 3
   },
   "file_extension": ".py",
   "mimetype": "text/x-python",
   "name": "python",
   "nbconvert_exporter": "python",
   "pygments_lexer": "ipython3",
   "version": "3.7.4"
  }
 },
 "nbformat": 4,
 "nbformat_minor": 2
}
