{
 "cells": [
  {
   "cell_type": "code",
   "execution_count": 17,
   "metadata": {},
   "outputs": [],
   "source": [
    "import re\n",
    "import pandas as pd\n",
    "import os\n",
    "import sys"
   ]
  },
  {
   "cell_type": "code",
   "execution_count": 14,
   "metadata": {},
   "outputs": [],
   "source": [
    "import nltk\n",
    "from nltk.stem.porter import *"
   ]
  },
  {
   "cell_type": "code",
   "execution_count": 4,
   "metadata": {},
   "outputs": [],
   "source": [
    "dirs = os.listdir(\"cricket\")"
   ]
  },
  {
   "cell_type": "code",
   "execution_count": 11,
   "metadata": {},
   "outputs": [],
   "source": [
    "def preposses(path):\n",
    "\n",
    "    f = open(path, mode='r')\n",
    "    \n",
    "    new_str = ''\n",
    "    \n",
    "    for line in f.readlines():\n",
    "        j = re.sub(r'\\W', ' ', line)\n",
    "        g = ' '.join(j.split())\n",
    "        new_str = new_str + ' ' + g\n",
    "        \n",
    "    new_str = ' '.join(new_str.split())\n",
    "    new_str = new_str.lower()\n",
    "    #print(new_str)\n",
    "    return(new_str)"
   ]
  },
  {
   "cell_type": "code",
   "execution_count": 12,
   "metadata": {},
   "outputs": [],
   "source": [
    "a = preposses('cricket/001.txt')"
   ]
  },
  {
   "cell_type": "code",
   "execution_count": 13,
   "metadata": {},
   "outputs": [
    {
     "ename": "AttributeError",
     "evalue": "'str' object has no attribute 'readlines'",
     "output_type": "error",
     "traceback": [
      "\u001b[1;31m---------------------------------------------------------------------------\u001b[0m",
      "\u001b[1;31mAttributeError\u001b[0m                            Traceback (most recent call last)",
      "\u001b[1;32m<ipython-input-13-ad38d8bb8e69>\u001b[0m in \u001b[0;36m<module>\u001b[1;34m\u001b[0m\n\u001b[1;32m----> 1\u001b[1;33m \u001b[1;32mfor\u001b[0m \u001b[0mline\u001b[0m \u001b[1;32min\u001b[0m \u001b[0ma\u001b[0m\u001b[1;33m.\u001b[0m\u001b[0mreadlines\u001b[0m\u001b[1;33m(\u001b[0m\u001b[1;33m)\u001b[0m\u001b[1;33m:\u001b[0m\u001b[1;33m\u001b[0m\u001b[1;33m\u001b[0m\u001b[0m\n\u001b[0m\u001b[0;32m      2\u001b[0m     \u001b[0mprint\u001b[0m\u001b[1;33m(\u001b[0m\u001b[0mline\u001b[0m\u001b[1;33m)\u001b[0m\u001b[1;33m\u001b[0m\u001b[1;33m\u001b[0m\u001b[0m\n",
      "\u001b[1;31mAttributeError\u001b[0m: 'str' object has no attribute 'readlines'"
     ]
    }
   ],
   "source": [
    "for line in a.readlines():\n",
    "    print(line)"
   ]
  },
  {
   "cell_type": "code",
   "execution_count": 6,
   "metadata": {},
   "outputs": [
    {
     "name": "stdout",
     "output_type": "stream",
     "text": [
      "cricket/001.txt\n",
      "cricket/002.txt\n",
      "cricket/003.txt\n",
      "cricket/004.txt\n",
      "cricket/005.txt\n",
      "cricket/006.txt\n",
      "cricket/007.txt\n",
      "cricket/008.txt\n",
      "cricket/009.txt\n",
      "cricket/010.txt\n",
      "cricket/011.txt\n",
      "cricket/012.txt\n",
      "cricket/013.txt\n",
      "cricket/014.txt\n",
      "cricket/015.txt\n",
      "cricket/016.txt\n",
      "cricket/017.txt\n",
      "cricket/018.txt\n",
      "cricket/019.txt\n",
      "cricket/020.txt\n",
      "cricket/021.txt\n",
      "cricket/022.txt\n",
      "cricket/023.txt\n",
      "cricket/024.txt\n",
      "cricket/025.txt\n",
      "cricket/026.txt\n",
      "cricket/027.txt\n",
      "cricket/028.txt\n",
      "cricket/029.txt\n",
      "cricket/030.txt\n",
      "cricket/031.txt\n",
      "cricket/032.txt\n",
      "cricket/033.txt\n",
      "cricket/034.txt\n",
      "cricket/035.txt\n",
      "cricket/036.txt\n",
      "cricket/037.txt\n",
      "cricket/038.txt\n",
      "cricket/039.txt\n",
      "cricket/040.txt\n",
      "cricket/041.txt\n",
      "cricket/042.txt\n",
      "cricket/043.txt\n",
      "cricket/044.txt\n",
      "cricket/045.txt\n",
      "cricket/046.txt\n",
      "cricket/047.txt\n",
      "cricket/048.txt\n",
      "cricket/049.txt\n",
      "cricket/050.txt\n",
      "cricket/051.txt\n",
      "cricket/052.txt\n",
      "cricket/053.txt\n",
      "cricket/054.txt\n",
      "cricket/055.txt\n",
      "cricket/056.txt\n",
      "cricket/057.txt\n",
      "cricket/058.txt\n",
      "cricket/059.txt\n",
      "cricket/060.txt\n",
      "cricket/061.txt\n",
      "cricket/062.txt\n",
      "cricket/063.txt\n",
      "cricket/064.txt\n",
      "cricket/065.txt\n",
      "cricket/066.txt\n",
      "cricket/067.txt\n",
      "cricket/068.txt\n",
      "cricket/069.txt\n",
      "cricket/070.txt\n",
      "cricket/071.txt\n",
      "cricket/072.txt\n",
      "cricket/073.txt\n",
      "cricket/074.txt\n",
      "cricket/075.txt\n",
      "cricket/076.txt\n",
      "cricket/077.txt\n",
      "cricket/078.txt\n",
      "cricket/079.txt\n",
      "cricket/080.txt\n",
      "cricket/081.txt\n",
      "cricket/082.txt\n",
      "cricket/083.txt\n",
      "cricket/084.txt\n",
      "cricket/085.txt\n",
      "cricket/086.txt\n",
      "cricket/087.txt\n",
      "cricket/088.txt\n",
      "cricket/089.txt\n",
      "cricket/090.txt\n",
      "cricket/091.txt\n",
      "cricket/092.txt\n",
      "cricket/093.txt\n",
      "cricket/094.txt\n",
      "cricket/095.txt\n",
      "cricket/096.txt\n",
      "cricket/097.txt\n",
      "cricket/098.txt\n",
      "cricket/099.txt\n",
      "cricket/100.txt\n",
      "cricket/101.txt\n",
      "cricket/102.txt\n",
      "cricket/103.txt\n",
      "cricket/104.txt\n",
      "cricket/105.txt\n",
      "cricket/106.txt\n",
      "cricket/107.txt\n",
      "cricket/108.txt\n",
      "cricket/109.txt\n",
      "cricket/110.txt\n",
      "cricket/111.txt\n",
      "cricket/112.txt\n",
      "cricket/113.txt\n",
      "cricket/114.txt\n",
      "cricket/115.txt\n",
      "cricket/116.txt\n",
      "cricket/117.txt\n",
      "cricket/118.txt\n",
      "cricket/119.txt\n",
      "cricket/120.txt\n",
      "cricket/121.txt\n",
      "cricket/122.txt\n",
      "cricket/123.txt\n",
      "cricket/124.txt\n"
     ]
    }
   ],
   "source": [
    "for i in dirs:\n",
    "    path = str('cricket/%s'%i)\n",
    "    print(path)"
   ]
  },
  {
   "cell_type": "code",
   "execution_count": 25,
   "metadata": {},
   "outputs": [
    {
     "name": "stdout",
     "output_type": "stream",
     "text": [
      "0and\n",
      "1on\n",
      "2for\n",
      "3three\n",
      "4old\n"
     ]
    }
   ],
   "source": [
    "keywords = [input(i) for i in range(5)]"
   ]
  },
  {
   "cell_type": "code",
   "execution_count": 24,
   "metadata": {},
   "outputs": [
    {
     "name": "stdout",
     "output_type": "stream",
     "text": [
      "['5', '7', ' ', ' ', ' ']\n"
     ]
    }
   ],
   "source": [
    "print(keywords)"
   ]
  },
  {
   "cell_type": "code",
   "execution_count": 28,
   "metadata": {},
   "outputs": [],
   "source": [
    "file_name = []\n",
    "\n",
    "for i in dirs:\n",
    "    path = str('cricket/%s'%i)\n",
    "    prepossed_txt = preposses(path)\n",
    "    word_list = nltk.word_tokenize(prepossed_txt)\n",
    "    #print(word_list)\n",
    "    for j in word_list:\n",
    "        if j in keywords:\n",
    "            file_name.append(i)\n",
    "            break"
   ]
  },
  {
   "cell_type": "code",
   "execution_count": 29,
   "metadata": {},
   "outputs": [
    {
     "name": "stdout",
     "output_type": "stream",
     "text": [
      "['001.txt', '002.txt', '003.txt', '004.txt', '005.txt', '006.txt', '007.txt', '008.txt', '009.txt', '010.txt', '011.txt', '012.txt', '013.txt', '014.txt', '015.txt', '016.txt', '017.txt', '018.txt', '019.txt', '020.txt', '021.txt', '022.txt', '023.txt', '024.txt', '025.txt', '026.txt', '028.txt', '029.txt', '030.txt', '031.txt', '032.txt', '033.txt', '034.txt', '035.txt', '036.txt', '037.txt', '038.txt', '039.txt', '040.txt', '041.txt', '042.txt', '043.txt', '044.txt', '045.txt', '046.txt', '047.txt', '048.txt', '049.txt', '050.txt', '051.txt', '052.txt', '053.txt', '054.txt', '055.txt', '056.txt', '057.txt', '058.txt', '059.txt', '060.txt', '061.txt', '062.txt', '063.txt', '064.txt', '065.txt', '066.txt', '067.txt', '068.txt', '069.txt', '070.txt', '071.txt', '072.txt', '073.txt', '074.txt', '075.txt', '076.txt', '077.txt', '078.txt', '079.txt', '080.txt', '081.txt', '082.txt', '083.txt', '084.txt', '085.txt', '086.txt', '087.txt', '088.txt', '089.txt', '090.txt', '091.txt', '092.txt', '093.txt', '094.txt', '095.txt', '096.txt', '097.txt', '098.txt', '099.txt', '100.txt', '101.txt', '102.txt', '103.txt', '104.txt', '105.txt', '106.txt', '107.txt', '108.txt', '109.txt', '110.txt', '111.txt', '112.txt', '113.txt', '114.txt', '115.txt', '116.txt', '117.txt', '118.txt', '119.txt', '120.txt', '121.txt', '122.txt', '123.txt', '124.txt']\n"
     ]
    }
   ],
   "source": [
    "print(file_name)"
   ]
  },
  {
   "cell_type": "code",
   "execution_count": null,
   "metadata": {},
   "outputs": [],
   "source": []
  }
 ],
 "metadata": {
  "kernelspec": {
   "display_name": "Python 3",
   "language": "python",
   "name": "python3"
  },
  "language_info": {
   "codemirror_mode": {
    "name": "ipython",
    "version": 3
   },
   "file_extension": ".py",
   "mimetype": "text/x-python",
   "name": "python",
   "nbconvert_exporter": "python",
   "pygments_lexer": "ipython3",
   "version": "3.7.4"
  }
 },
 "nbformat": 4,
 "nbformat_minor": 2
}
